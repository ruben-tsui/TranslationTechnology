{
 "cells": [
  {
   "cell_type": "markdown",
   "metadata": {},
   "source": [
    "### Run Anymalign on Jupyter notebook"
   ]
  },
  {
   "cell_type": "code",
   "execution_count": 2,
   "metadata": {},
   "outputs": [
    {
     "name": "stdout",
     "output_type": "stream",
     "text": [
      "total 36\r\n",
      "-rw-r--r-- 1 jovyan root       0 Mar 12 14:07 aligned.txt\r\n",
      "-rw-r--r-- 1 jovyan jovyan  8969 Mar 12 14:07 anymalign.ipynb\r\n",
      "-rw-r--r-- 1 jovyan jovyan 19337 Mar 12 13:47 grep.ipynb\r\n",
      "-rw-r--r-- 1 jovyan jovyan    65 Mar 12 13:47 README.md\r\n"
     ]
    }
   ],
   "source": [
    "!ls -l"
   ]
  },
  {
   "cell_type": "markdown",
   "metadata": {},
   "source": [
    "### Check Python 2 version"
   ]
  },
  {
   "cell_type": "code",
   "execution_count": 3,
   "metadata": {},
   "outputs": [
    {
     "name": "stdout",
     "output_type": "stream",
     "text": [
      "Python 2.7.17\r\n"
     ]
    }
   ],
   "source": [
    "!python2 --version"
   ]
  },
  {
   "cell_type": "markdown",
   "metadata": {},
   "source": [
    "### Download the \"Oldman\" package (which contains anymalign.py, a Python 2.7 script)"
   ]
  },
  {
   "cell_type": "code",
   "execution_count": 4,
   "metadata": {},
   "outputs": [
    {
     "name": "stdout",
     "output_type": "stream",
     "text": [
      "--2020-03-12 14:07:31--  http://nlp.csie.org/~rubentsui/files/TranslationTech1082/oldman.zip\n",
      "Resolving nlp.csie.org (nlp.csie.org)... 140.112.185.31\n",
      "Connecting to nlp.csie.org (nlp.csie.org)|140.112.185.31|:80... connected.\n",
      "HTTP request sent, awaiting response... 200 OK\n",
      "Length: 529796 (517K) [application/zip]\n",
      "Saving to: ‘oldman.zip’\n",
      "\n",
      "oldman.zip          100%[===================>] 517.38K   665KB/s    in 0.8s    \n",
      "\n",
      "2020-03-12 14:07:32 (665 KB/s) - ‘oldman.zip’ saved [529796/529796]\n",
      "\n"
     ]
    }
   ],
   "source": [
    "!wget -c http://nlp.csie.org/~rubentsui/files/TranslationTech1082/oldman.zip"
   ]
  },
  {
   "cell_type": "markdown",
   "metadata": {},
   "source": [
    "### Unzip the file and check the line count"
   ]
  },
  {
   "cell_type": "code",
   "execution_count": 5,
   "metadata": {},
   "outputs": [
    {
     "name": "stdout",
     "output_type": "stream",
     "text": [
      "Archive:  oldman.zip\r\n",
      "  inflating: anymalign.py            \r\n",
      "  inflating: oldc1out.txt            \r\n",
      "  inflating: oldc2out.txt            \r\n",
      "  inflating: olde.txt                \r\n",
      " extracting: хжВф╜ХхЯ╖шбМшйЮх░НцЗЙчиЛх╝П animalign2016.pdf  \r\n"
     ]
    }
   ],
   "source": [
    "!unzip oldman"
   ]
  },
  {
   "cell_type": "code",
   "execution_count": 6,
   "metadata": {},
   "outputs": [
    {
     "name": "stdout",
     "output_type": "stream",
     "text": [
      "  1895 oldc1out.txt\r\n",
      "  1895 oldc2out.txt\r\n",
      "  1895 olde.txt\r\n",
      "  5685 total\r\n"
     ]
    }
   ],
   "source": [
    "!wc -l old*txt"
   ]
  },
  {
   "cell_type": "markdown",
   "metadata": {},
   "source": [
    "### Run Anyalign with a 'timeout' condition of 20 seconds"
   ]
  },
  {
   "cell_type": "code",
   "execution_count": 7,
   "metadata": {},
   "outputs": [
    {
     "name": "stdout",
     "output_type": "stream",
     "text": [
      "Input corpus: 3 languages, 1896 lines\n",
      "Aligning... (ctrl-c to interrupt)\n",
      "(37260 subcorpora, avg=10.23) Alignment done, proceeding... \n",
      "16287 alignments\n",
      "Sorting alignments\n",
      "Computing conditional probabilities...\n",
      "Outputting results...\n",
      "100%\r"
     ]
    }
   ],
   "source": [
    "!python2  anymalign.py  --timeout=20  olde.txt  oldc1out.txt oldc2out.txt > aligned.txt"
   ]
  },
  {
   "cell_type": "markdown",
   "metadata": {},
   "source": [
    "### Check to see if the output file has been created"
   ]
  },
  {
   "cell_type": "code",
   "execution_count": 8,
   "metadata": {},
   "outputs": [
    {
     "name": "stdout",
     "output_type": "stream",
     "text": [
      "total 2332\r\n",
      "-rw-r--r-- 1 jovyan root   1002001 Mar 12 14:07  aligned.txt\r\n",
      "-rw-r--r-- 1 jovyan jovyan    8969 Mar 12 14:07  anymalign.ipynb\r\n",
      "-rw-r--r-- 1 jovyan root     61910 Sep 28  2017  anymalign.py\r\n",
      "-rw-r--r-- 1 jovyan jovyan   19337 Mar 12 13:47  grep.ipynb\r\n",
      "-rw-r--r-- 1 jovyan root    156515 Sep 28  2017  oldc1out.txt\r\n",
      "-rw-r--r-- 1 jovyan root    146715 Sep 28  2017  oldc2out.txt\r\n",
      "-rw-r--r-- 1 jovyan root    131330 Sep 28  2017  olde.txt\r\n",
      "-rw-r--r-- 1 jovyan root    529796 Sep 28  2017  oldman.zip\r\n",
      "-rw-r--r-- 1 jovyan jovyan      65 Mar 12 13:47  README.md\r\n",
      "-rw-r--r-- 1 jovyan root    305712 Sep 28  2017 'хжВф╜ХхЯ╖шбМшйЮх░НцЗЙчиЛх╝П animalign2016.pdf'\r\n"
     ]
    }
   ],
   "source": [
    "!ls -l"
   ]
  },
  {
   "cell_type": "markdown",
   "metadata": {},
   "source": [
    "### Print out the first 50 lines of the output file"
   ]
  },
  {
   "cell_type": "code",
   "execution_count": 9,
   "metadata": {},
   "outputs": [
    {
     "name": "stdout",
     "output_type": "stream",
     "text": [
      "boy\t孩子\t孩子\t-\t0.982610 0.947136 0.934399\t5142\r\n",
      "said\t說\t說\t-\t0.942286 0.945257 0.935337\t3298\r\n",
      "old man\t老人\t老漢\t-\t0.950411 0.488686 0.481451\t2894\r\n",
      "he\t他\t他\t-\t0.738065 0.622792 0.634269\t2891\r\n",
      "I\t我\t我\t-\t0.834653 0.758094 0.749778\t2529\r\n",
      "thought\t想\t想\t-\t0.940048 0.909161 0.924165\t2352\r\n",
      "old\t老人\t老漢\t-\t0.967590 0.277271 0.273166\t1642\r\n",
      "bow\t船頭\t船頭\t-\t0.973392 0.980640 0.979182\t1317\r\n",
      "man\t老人\t老漢\t-\t0.927518 0.127491 0.125603\t755\r\n",
      "you\t你\t你\t-\t0.801099 0.589806 0.677509\t729\r\n",
      "sun\t太陽\t太陽\t-\t0.940000 0.952703 0.959184\t705\r\n",
      "flying\t飛魚\t飛魚\t-\t0.947967 0.941842 0.913793\t583\r\n",
      "dolphin\t泥鰍\t鯕 鰍\t-\t0.955674 0.896839 0.893864\t539\r\n",
      "Terrace\t露台\t餐館\t-\t0.774845 1.000000 0.784591\t499\r\n",
      "moon\t月亮\t月亮\t-\t0.989201 0.991342 0.997821\t458\r\n",
      "left\t左手\t左手\t-\t0.976636 0.669872 0.669872\t418\r\n",
      "mast\t桅杆\t桅杆\t-\t0.958333 0.993827 0.966967\t322\r\n",
      "shark\t鯊魚\t鯊魚\t-\t0.941520 0.646586 0.707692\t322\r\n",
      "he thought\t他 想\t他 想\t-\t0.603143 0.601961 0.556159\t307\r\n",
      "coffee\t咖啡\t咖啡\t-\t0.958861 0.983766 0.968051\t303\r\n",
      "tuna\t鮪魚\t金槍魚\t-\t0.934985 0.955696 0.961783\t302\r\n",
      "tail\t尾巴\t尾巴\t-\t0.928328 0.944444 0.931507\t272\r\n",
      "lions\t獅子\t獅子\t-\t0.936803 0.965517 0.976744\t252\r\n",
      "the boy said\t孩子 說\t孩子 說\t-\t0.870629 0.477927 0.487280\t249\r\n",
      "right\t右手\t右手\t-\t0.840830 0.776358 0.778846\t243\r\n",
      "Amen\t亞孟\t阿門\t-\t1.000000 1.000000 1.000000\t241\r\n",
      "wire\t鐵絲\t鐵絲\t-\t1.000000 0.960000 0.960000\t240\r\n",
      "wood\t木頭\t木板\t-\t0.871212 0.916335 0.942623\t230\r\n",
      "the old man\t老人\t老漢\t-\t0.773519 0.037487 0.036932\t222\r\n",
      "know\t知道\t知道\t-\t0.696486 0.332317 0.407477\t218\r\n",
      "now\t現在\t現在\t-\t0.615385 0.480000 0.613636\t216\r\n",
      "He\t他\t他\t-\t0.384462 0.041577 0.042343\t193\r\n",
      "shack\t小屋\t窩棚\t-\t0.940594 0.913462 0.950000\t190\r\n",
      "aloud\t自言自語\t出聲\t-\t0.785408 0.665455 0.928934\t183\r\n",
      "the\t的\t的\t-\t0.151515 0.134630 0.121376\t180\r\n",
      "because\t因為\t因為\t-\t0.956989 0.843602 0.851675\t178\r\n",
      "knew\t知道\t知道\t-\t0.842857 0.269817 0.330841\t177\r\n",
      "Thank\t謝謝\t謝謝\t-\t0.950549 0.572848 0.873737\t173\r\n",
      "Eat them\t吃 吧\t吃 吧\t-\t0.777778 0.595745 0.547231\t168\r\n",
      "sardines\t沙汀魚\t沙丁魚\t-\t0.822660 0.814634 0.865285\t167\r\n",
      "harpoon\t魚叉\t魚叉\t-\t0.916667 0.921788 0.976331\t165\r\n",
      "the old man said\t老人 說\t老漢 說\t-\t0.503165 0.361364 0.449153\t159\r\n",
      "remember\t記得\t記得\t-\t0.699115 0.822917 0.610039\t158\r\n",
      "Yankees\t洋基隊\t揚基隊\t-\t1.000000 1.000000 1.000000\t158\r\n",
      "friend\t朋友\t朋友\t-\t0.968944 0.928571 0.939759\t156\r\n",
      "the\t他\t他\t-\t0.123737 0.031667 0.032251\t147\r\n",
      "the boy\t孩子\t孩子\t-\t0.775956 0.026156 0.025804\t142\r\n",
      "he said\t他 說\t他 說\t-\t0.355330 0.557769 0.476190\t140\r\n",
      "hope\t希望\t希望\t-\t0.913907 0.985714 0.971831\t138\r\n",
      "Terrace\t露台 酒店\t餐館\t-\t0.208075 1.000000 0.210692\t134\r\n"
     ]
    }
   ],
   "source": [
    "!head -50 aligned.txt"
   ]
  },
  {
   "cell_type": "code",
   "execution_count": null,
   "metadata": {},
   "outputs": [],
   "source": []
  }
 ],
 "metadata": {
  "kernelspec": {
   "display_name": "Python 3",
   "language": "python",
   "name": "python3"
  },
  "language_info": {
   "codemirror_mode": {
    "name": "ipython",
    "version": 3
   },
   "file_extension": ".py",
   "mimetype": "text/x-python",
   "name": "python",
   "nbconvert_exporter": "python",
   "pygments_lexer": "ipython3",
   "version": "3.7.6"
  }
 },
 "nbformat": 4,
 "nbformat_minor": 4
}
