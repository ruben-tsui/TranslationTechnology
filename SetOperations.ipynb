{
 "cells": [
  {
   "cell_type": "markdown",
   "metadata": {},
   "source": [
    "## Reading Excel data and perform set operations"
   ]
  },
  {
   "cell_type": "code",
   "execution_count": 34,
   "metadata": {},
   "outputs": [],
   "source": [
    "import pandas as pd"
   ]
  },
  {
   "cell_type": "code",
   "execution_count": 35,
   "metadata": {},
   "outputs": [],
   "source": [
    "df = pd.read_excel(\"collocates.xlsx\")"
   ]
  },
  {
   "cell_type": "code",
   "execution_count": 36,
   "metadata": {},
   "outputs": [
    {
     "data": {
      "text/html": [
       "<div>\n",
       "<style scoped>\n",
       "    .dataframe tbody tr th:only-of-type {\n",
       "        vertical-align: middle;\n",
       "    }\n",
       "\n",
       "    .dataframe tbody tr th {\n",
       "        vertical-align: top;\n",
       "    }\n",
       "\n",
       "    .dataframe thead th {\n",
       "        text-align: right;\n",
       "    }\n",
       "</style>\n",
       "<table border=\"1\" class=\"dataframe\">\n",
       "  <thead>\n",
       "    <tr style=\"text-align: right;\">\n",
       "      <th></th>\n",
       "      <th>TRAVEL</th>\n",
       "      <th>FREQ1</th>\n",
       "      <th>TRIP</th>\n",
       "      <th>FREQ2</th>\n",
       "    </tr>\n",
       "  </thead>\n",
       "  <tbody>\n",
       "    <tr>\n",
       "      <th>0</th>\n",
       "      <td>AGENT</td>\n",
       "      <td>912</td>\n",
       "      <td>BACK</td>\n",
       "      <td>137</td>\n",
       "    </tr>\n",
       "    <tr>\n",
       "      <th>1</th>\n",
       "      <td>TIME</td>\n",
       "      <td>670</td>\n",
       "      <td>WIRE</td>\n",
       "      <td>124</td>\n",
       "    </tr>\n",
       "    <tr>\n",
       "      <th>2</th>\n",
       "      <td>BAN</td>\n",
       "      <td>586</td>\n",
       "      <td>PLANNER</td>\n",
       "      <td>115</td>\n",
       "    </tr>\n",
       "    <tr>\n",
       "      <th>3</th>\n",
       "      <td>AGENTS</td>\n",
       "      <td>497</td>\n",
       "      <td>WIRES</td>\n",
       "      <td>53</td>\n",
       "    </tr>\n",
       "    <tr>\n",
       "      <th>4</th>\n",
       "      <td>AGENCY</td>\n",
       "      <td>466</td>\n",
       "      <td>COMPUTER</td>\n",
       "      <td>50</td>\n",
       "    </tr>\n",
       "    <tr>\n",
       "      <th>5</th>\n",
       "      <td>EXPENSES</td>\n",
       "      <td>412</td>\n",
       "      <td>HOME</td>\n",
       "      <td>50</td>\n",
       "    </tr>\n",
       "    <tr>\n",
       "      <th>6</th>\n",
       "      <td>OFFICE</td>\n",
       "      <td>378</td>\n",
       "      <td>DATA</td>\n",
       "      <td>48</td>\n",
       "    </tr>\n",
       "    <tr>\n",
       "      <th>7</th>\n",
       "      <td>PLANS</td>\n",
       "      <td>363</td>\n",
       "      <td>CANCELLATION</td>\n",
       "      <td>40</td>\n",
       "    </tr>\n",
       "    <tr>\n",
       "      <th>8</th>\n",
       "      <td>INDUSTRY</td>\n",
       "      <td>332</td>\n",
       "      <td>TIME</td>\n",
       "      <td>39</td>\n",
       "    </tr>\n",
       "    <tr>\n",
       "      <th>9</th>\n",
       "      <td>WRITER</td>\n",
       "      <td>322</td>\n",
       "      <td>ADVISOR</td>\n",
       "      <td>38</td>\n",
       "    </tr>\n",
       "    <tr>\n",
       "      <th>10</th>\n",
       "      <td>RESTRICTIONS</td>\n",
       "      <td>247</td>\n",
       "      <td>REPORT</td>\n",
       "      <td>36</td>\n",
       "    </tr>\n",
       "    <tr>\n",
       "      <th>11</th>\n",
       "      <td>TIMES</td>\n",
       "      <td>218</td>\n",
       "      <td>LEADER</td>\n",
       "      <td>33</td>\n",
       "    </tr>\n",
       "    <tr>\n",
       "      <th>12</th>\n",
       "      <td>GUIDE</td>\n",
       "      <td>214</td>\n",
       "      <td>PLANNING</td>\n",
       "      <td>32</td>\n",
       "    </tr>\n",
       "    <tr>\n",
       "      <th>13</th>\n",
       "      <td>AGENCIES</td>\n",
       "      <td>209</td>\n",
       "      <td>COST</td>\n",
       "      <td>30</td>\n",
       "    </tr>\n",
       "    <tr>\n",
       "      <th>14</th>\n",
       "      <td>INSURANCE</td>\n",
       "      <td>192</td>\n",
       "      <td>ID</td>\n",
       "      <td>26</td>\n",
       "    </tr>\n",
       "    <tr>\n",
       "      <th>15</th>\n",
       "      <td>ARRANGEMENTS</td>\n",
       "      <td>176</td>\n",
       "      <td>LENGTH</td>\n",
       "      <td>26</td>\n",
       "    </tr>\n",
       "    <tr>\n",
       "      <th>16</th>\n",
       "      <td>DOCUMENTS</td>\n",
       "      <td>168</td>\n",
       "      <td>INSURANCE</td>\n",
       "      <td>18</td>\n",
       "    </tr>\n",
       "    <tr>\n",
       "      <th>17</th>\n",
       "      <td>SCHEDULE</td>\n",
       "      <td>168</td>\n",
       "      <td>RIGHT</td>\n",
       "      <td>18</td>\n",
       "    </tr>\n",
       "    <tr>\n",
       "      <th>18</th>\n",
       "      <td>EDITOR</td>\n",
       "      <td>164</td>\n",
       "      <td>INTERRUPTION</td>\n",
       "      <td>17</td>\n",
       "    </tr>\n",
       "    <tr>\n",
       "      <th>19</th>\n",
       "      <td>LIGHT</td>\n",
       "      <td>163</td>\n",
       "      <td>LEADERS</td>\n",
       "      <td>17</td>\n",
       "    </tr>\n",
       "  </tbody>\n",
       "</table>\n",
       "</div>"
      ],
      "text/plain": [
       "          TRAVEL  FREQ1          TRIP  FREQ2\n",
       "0          AGENT    912          BACK    137\n",
       "1           TIME    670          WIRE    124\n",
       "2            BAN    586       PLANNER    115\n",
       "3         AGENTS    497         WIRES     53\n",
       "4         AGENCY    466      COMPUTER     50\n",
       "5       EXPENSES    412          HOME     50\n",
       "6         OFFICE    378          DATA     48\n",
       "7          PLANS    363  CANCELLATION     40\n",
       "8       INDUSTRY    332          TIME     39\n",
       "9         WRITER    322       ADVISOR     38\n",
       "10  RESTRICTIONS    247        REPORT     36\n",
       "11         TIMES    218        LEADER     33\n",
       "12         GUIDE    214      PLANNING     32\n",
       "13      AGENCIES    209          COST     30\n",
       "14     INSURANCE    192            ID     26\n",
       "15  ARRANGEMENTS    176        LENGTH     26\n",
       "16     DOCUMENTS    168     INSURANCE     18\n",
       "17      SCHEDULE    168         RIGHT     18\n",
       "18        EDITOR    164  INTERRUPTION     17\n",
       "19         LIGHT    163       LEADERS     17"
      ]
     },
     "execution_count": 36,
     "metadata": {},
     "output_type": "execute_result"
    }
   ],
   "source": [
    "df.head(20)  # show the first few entries"
   ]
  },
  {
   "cell_type": "markdown",
   "metadata": {},
   "source": [
    "### set intersection"
   ]
  },
  {
   "cell_type": "code",
   "execution_count": 37,
   "metadata": {},
   "outputs": [],
   "source": [
    "common_collocates = set(df['TRAVEL']).intersection(set(df['TRIP']))"
   ]
  },
  {
   "cell_type": "markdown",
   "metadata": {},
   "source": [
    "### set differences (travel minus trip)"
   ]
  },
  {
   "cell_type": "code",
   "execution_count": 38,
   "metadata": {},
   "outputs": [],
   "source": [
    "travel_only_collocates = set(df['TRAVEL']).difference(set(df['TRIP']))"
   ]
  },
  {
   "cell_type": "markdown",
   "metadata": {},
   "source": [
    "### set intersection (trip minus travel)"
   ]
  },
  {
   "cell_type": "code",
   "execution_count": 39,
   "metadata": {},
   "outputs": [],
   "source": [
    "trip_only_collocates = set(df['TRIP']).difference(set(df['TRAVEL']))"
   ]
  },
  {
   "cell_type": "markdown",
   "metadata": {},
   "source": [
    "### check sizes of the sets"
   ]
  },
  {
   "cell_type": "code",
   "execution_count": 40,
   "metadata": {},
   "outputs": [
    {
     "data": {
      "text/plain": [
       "(20, 80, 80)"
      ]
     },
     "execution_count": 40,
     "metadata": {},
     "output_type": "execute_result"
    }
   ],
   "source": [
    "len(common_collocates), len(travel_only_collocates), len(trip_only_collocates)"
   ]
  },
  {
   "cell_type": "markdown",
   "metadata": {},
   "source": [
    "### Crete a new dataframe and write results to a new Excel file"
   ]
  },
  {
   "cell_type": "code",
   "execution_count": 41,
   "metadata": {},
   "outputs": [],
   "source": [
    "df2 = pd.DataFrame(\n",
    "        {'common': pd.Series(list(common_collocates)),\n",
    "         'travel_only': pd.Series(list(travel_only_collocates)),\n",
    "         'trip_only': pd.Series(list(trip_only_collocates))}\n",
    "        )"
   ]
  },
  {
   "cell_type": "code",
   "execution_count": 42,
   "metadata": {},
   "outputs": [],
   "source": [
    "df2.to_excel(\"collocates_comparison.xlsx\")"
   ]
  },
  {
   "cell_type": "code",
   "execution_count": null,
   "metadata": {},
   "outputs": [],
   "source": []
  }
 ],
 "metadata": {
  "colab": {
   "collapsed_sections": [],
   "name": "NLTK1.ipynb",
   "provenance": []
  },
  "kernelspec": {
   "display_name": "Python 3",
   "language": "python",
   "name": "python3"
  },
  "language_info": {
   "codemirror_mode": {
    "name": "ipython",
    "version": 3
   },
   "file_extension": ".py",
   "mimetype": "text/x-python",
   "name": "python",
   "nbconvert_exporter": "python",
   "pygments_lexer": "ipython3",
   "version": "3.7.6"
  }
 },
 "nbformat": 4,
 "nbformat_minor": 4
}
