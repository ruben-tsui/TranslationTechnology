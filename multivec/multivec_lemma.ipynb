{
 "cells": [
  {
   "cell_type": "code",
   "execution_count": 1,
   "metadata": {},
   "outputs": [],
   "source": [
    "from multivec import BilingualModel, MonolingualModel"
   ]
  },
  {
   "cell_type": "code",
   "execution_count": 2,
   "metadata": {},
   "outputs": [],
   "source": [
    "from opencc import OpenCC\n",
    "ocs2t = OpenCC('s2t')\n",
    "oct2s = OpenCC('t2s')"
   ]
  },
  {
   "cell_type": "code",
   "execution_count": 3,
   "metadata": {},
   "outputs": [],
   "source": [
    "model = BilingualModel(b'/mnt/c/NLP/collo/un4m.lemma.bin')"
   ]
  },
  {
   "cell_type": "code",
   "execution_count": 4,
   "metadata": {},
   "outputs": [
    {
     "data": {
      "text/plain": [
       "12083"
      ]
     },
     "execution_count": 4,
     "metadata": {},
     "output_type": "execute_result"
    }
   ],
   "source": [
    "model.dimension\n",
    "#model.get_counts()\n",
    "#get_counts()\n",
    "a = model.src_model.get_counts()\n",
    "a[b'border']"
   ]
  },
  {
   "cell_type": "code",
   "execution_count": 5,
   "metadata": {},
   "outputs": [],
   "source": [
    "# The following is unnecessary since the sepearate monolingual models are already built into the bilingual model\n",
    "#en_model = MonolingualModel(b'/mnt/c/NLP/collo/un4m.lemma.en.bin')\n",
    "#zh_model = MonolingualModel(b'/mnt/c/NLP/collo/un4m.lemma.zhs.bin')"
   ]
  },
  {
   "cell_type": "code",
   "execution_count": 6,
   "metadata": {},
   "outputs": [],
   "source": [
    "zh_model = model.trg_model\n",
    "en_model = model.src_model"
   ]
  },
  {
   "cell_type": "code",
   "execution_count": 7,
   "metadata": {},
   "outputs": [
    {
     "name": "stdout",
     "output_type": "stream",
     "text": [
      "['degree', 'extent', 'intensity', 'severity', 'magnitude', 'vary', 'depend', 'great', 'size', 'largely', 'gravity', 'considerably']\n"
     ]
    }
   ],
   "source": [
    "w = ['恨', '程度'][1]\n",
    "enlist = model.src_closest(oct2s.convert(w).encode(), n=12)\n",
    "print([e.decode() for (e, d) in enlist])"
   ]
  },
  {
   "cell_type": "code",
   "execution_count": 8,
   "metadata": {},
   "outputs": [],
   "source": [
    "def enSynonyms(txt, n=5):\n",
    "    retval = []\n",
    "    for (x,s) in en_model.closest(txt.encode(), n):\n",
    "        retval.append(x.decode())\n",
    "    return retval\n",
    "\n",
    "def zhSynonyms(txt, n=5):\n",
    "    retval = []\n",
    "    for (x,s) in zh_model.closest(oct2s.convert(txt).encode(), n):\n",
    "        retval.append(ocs2t.convert(x.decode()))\n",
    "    return retval\n"
   ]
  },
  {
   "cell_type": "code",
   "execution_count": 9,
   "metadata": {},
   "outputs": [
    {
     "data": {
      "text/plain": [
       "['broadly',\n",
       " 'widespread',\n",
       " 'disseminate',\n",
       " 'extensively',\n",
       " 'universally',\n",
       " 'commonly',\n",
       " 'generally',\n",
       " 'wide',\n",
       " 'broad',\n",
       " 'extensive',\n",
       " 'publicize',\n",
       " 'dissemination',\n",
       " 'readily',\n",
       " 'publicity',\n",
       " 'diffuse']"
      ]
     },
     "execution_count": 9,
     "metadata": {},
     "output_type": "execute_result"
    }
   ],
   "source": [
    "wen = ['basis', 'fixture', 'widely'][2]\n",
    "wzh = ['恨', '程度', '前提'][2]\n",
    "enSynonyms(wen, n=15)\n",
    "#zhSynonyms(wzh, n=15)"
   ]
  },
  {
   "cell_type": "code",
   "execution_count": 10,
   "metadata": {},
   "outputs": [
    {
     "name": "stdout",
     "output_type": "stream",
     "text": [
      "['廣爲', '人知', '散發', '廣泛', '廣大', '傳播', '流傳', '普遍', '散播', '普遍地', '公衆', '涉面', '家喻戶曉', '大範圍', '廣予', '大衆', '廣爲人知', '更廣', '廣泛地', '散佈']\n"
     ]
    }
   ],
   "source": [
    "w = ['farmland', 'pasture', 'entrench', 'scope', 'unduly', \\\n",
    "     'extrapolate', 'demographic', 'fixture', 'sequential', 'widely'][9]\n",
    "zhlist = model.trg_closest(w.encode(), n=20)\n",
    "print([ocs2t.convert(z.decode()) for (z, d) in zhlist])"
   ]
  },
  {
   "cell_type": "code",
   "execution_count": 11,
   "metadata": {},
   "outputs": [],
   "source": [
    "def analogy(w1, w2, w3):\n",
    "    '''\n",
    "    Solves problems of the type:\n",
    "    w1 : w2 :: w3 : __\n",
    "    '''\n",
    "    closest_words = []\n",
    "    try:\n",
    "        w1v = en_model.word_vec(w1.encode('utf8'))\n",
    "        w2v = en_model.word_vec(w2.encode('utf8'))\n",
    "        w3v = zh_model.word_vec(oct2s.convert(w3).encode('utf8'))\n",
    "        w4v = w3v + (w2v - w1v)\n",
    "        closest_words = [ocs2t.convert(w.decode()) for (w, d) in zh_model.closest_to_vec(w4v, n=15)]\n",
    "        closest_words = [w for w in closest_words if w not in [w1, w2, w3]]\n",
    "    except:\n",
    "        pass\n",
    "    if len(closest_words) == 0:\n",
    "        print(':-(')\n",
    "    else:\n",
    "        print('{} : {} :: {} : {}'.format(w1, w2, w3, closest_words[0]))\n",
    "        print(closest_words)"
   ]
  },
  {
   "cell_type": "code",
   "execution_count": 12,
   "metadata": {},
   "outputs": [
    {
     "name": "stdout",
     "output_type": "stream",
     "text": [
      "man : king :: 女 : 王后\n",
      "['王后', '議員', '女皇', '國王', '公主', '負責人', '奧克蘭', '愛丁堡', '錫蘭', '親王', '陛下', '議員們', '雪蘭莪州', '全國']\n"
     ]
    }
   ],
   "source": [
    "w1 = 'man'\n",
    "w2 = 'king'\n",
    "w3 = '女'; \n",
    "analogy(w1, w2, w3)"
   ]
  },
  {
   "cell_type": "code",
   "execution_count": 13,
   "metadata": {},
   "outputs": [
    {
     "name": "stdout",
     "output_type": "stream",
     "text": [
      "man : doctor :: 女 : 醫生\n",
      "['醫生', '護士', '心理學家', '助產士', '醫務', '醫師', '藥劑師', '獄醫', '醫學院', '工作者', '內科', '就醫', '看醫生', '行醫']\n"
     ]
    }
   ],
   "source": [
    "w1 = 'man'\n",
    "w2 = 'doctor'\n",
    "w3 = '女'; \n",
    "analogy(w1, w2, w3)"
   ]
  },
  {
   "cell_type": "code",
   "execution_count": 14,
   "metadata": {},
   "outputs": [
    {
     "name": "stdout",
     "output_type": "stream",
     "text": [
      "male : lawyer :: 女性 : 律師\n",
      "['律師', '辯護人', '律師們', '法官', '醫生', '公設', 'Bulgan', 'Robbin-Coker', '公證員', '執業', '心理學家', '記者', '工作者', '辯護', 'K-12']\n"
     ]
    }
   ],
   "source": [
    "w1 = 'male'\n",
    "w2 = 'lawyer'\n",
    "w3 = '女性'; \n",
    "analogy(w1, w2, w3)"
   ]
  },
  {
   "cell_type": "code",
   "execution_count": 15,
   "metadata": {},
   "outputs": [
    {
     "name": "stdout",
     "output_type": "stream",
     "text": [
      "hangar : airplane :: 車庫 : 停車場\n",
      "['停車場', '停車位', '客機', '停在', '起降', '旅客', '行人', '上車', '載客', '走道', '登機', '乘客', '停車', '運輸機']\n"
     ]
    }
   ],
   "source": [
    "w1 = 'hangar' #'smear' #'paltry'\n",
    "w2 = 'airplane' # 'libel' # 'significance'\n",
    "w3 = '車庫' # '注意' #'平凡'; \n",
    "analogy(w1, w2, w3)"
   ]
  },
  {
   "cell_type": "code",
   "execution_count": 16,
   "metadata": {},
   "outputs": [
    {
     "data": {
      "text/plain": [
       "[('terrorism', 0.5728011727333069),\n",
       " ('fight', 0.566207230091095),\n",
       " ('combat', 0.5621457695960999),\n",
       " ('crime', 0.5423240661621094),\n",
       " ('combating', 0.54147869348526),\n",
       " ('corruption', 0.5165905356407166),\n",
       " ('trafficking', 0.47082212567329407),\n",
       " ('scourge', 0.47066861391067505),\n",
       " ('drug-', 0.456204354763031),\n",
       " ('CORRUPTION', 0.4367782175540924),\n",
       " ('evil', 0.41706717014312744),\n",
       " ('suppress', 0.4149443805217743),\n",
       " ('bulwark', 0.41396206617355347),\n",
       " ('a/54/37', 0.4136147201061249),\n",
       " ('menace', 0.41042423248291016)]"
      ]
     },
     "execution_count": 16,
     "metadata": {},
     "output_type": "execute_result"
    }
   ],
   "source": [
    "w1 = '犯罪'\n",
    "w2 = '打擊'\n",
    "w3 = 'crime'; \n",
    "\n",
    "#w1 = '疾病'\n",
    "#w2 = '先天'\n",
    "#w3 = 'disease'; \n",
    "\n",
    "w1v = zh_model.word_vec(oct2s.convert(w1).encode('utf8'))\n",
    "w2v = zh_model.word_vec(oct2s.convert(w2).encode('utf8'))\n",
    "w3v = en_model.word_vec(w3.encode('utf8'))\n",
    "w4v = w3v + (w2v - w1v)\n",
    "closest_words = [(w.decode(), d) for (w, d) in en_model.closest_to_vec(w4v, n=15)]\n",
    "closest_words"
   ]
  },
  {
   "cell_type": "code",
   "execution_count": 17,
   "metadata": {},
   "outputs": [
    {
     "data": {
      "text/plain": [
       "[('brutal', 0.7233069539070129),\n",
       " ('cruelty', 0.7097128629684448),\n",
       " ('merciless', 0.6643000841140747),\n",
       " ('barbarity', 0.6310014128684998),\n",
       " ('brutality', 0.6243674755096436),\n",
       " ('tyrannical', 0.6238163709640503),\n",
       " ('inhumane', 0.6227946281433105),\n",
       " ('atrocious', 0.6057685017585754),\n",
       " ('appalling', 0.6051443219184875),\n",
       " ('savage', 0.5973511934280396),\n",
       " ('barbarous', 0.5931642651557922),\n",
       " ('vile', 0.5890387892723083),\n",
       " ('savagery', 0.5860393047332764),\n",
       " ('oppression', 0.5858331918716431),\n",
       " ('inhuman', 0.5800017714500427),\n",
       " ('cruelly', 0.5778768062591553),\n",
       " ('brutally', 0.5777223706245422),\n",
       " ('barbaric', 0.5751890540122986),\n",
       " ('atrocity', 0.5711759924888611),\n",
       " ('terrible', 0.5679929256439209),\n",
       " ('humiliating', 0.5676820874214172),\n",
       " ('horrendous', 0.5666106343269348),\n",
       " ('humiliation', 0.5654634237289429),\n",
       " ('ordeal', 0.5634199380874634),\n",
       " ('ruthless', 0.5585915446281433)]"
      ]
     },
     "execution_count": 17,
     "metadata": {},
     "output_type": "execute_result"
    }
   ],
   "source": [
    "w1 = '榮'\n",
    "w2 = '殊'\n",
    "w3 = 'honour'; \n",
    "w1 = '現實'\n",
    "w2 = '殘酷'\n",
    "w3 = 'reality'; \n",
    "w1v = zh_model.word_vec(oct2s.convert(w1).encode('utf8'))\n",
    "w2v = zh_model.word_vec(oct2s.convert(w2).encode('utf8'))\n",
    "w3v = en_model.word_vec(w3.encode('utf8'))\n",
    "w4v = w3v + (w2v - w1v)\n",
    "closest_words = [(w.decode(), d) for (w, d) in en_model.closest_to_vec(w4v, n=25)]\n",
    "closest_words"
   ]
  },
  {
   "cell_type": "code",
   "execution_count": 18,
   "metadata": {},
   "outputs": [
    {
     "name": "stdout",
     "output_type": "stream",
     "text": [
      "rain : heavy :: 雨 : 重型\n",
      "['重型', '繁重', '沉重', '過重', '重物', '負擔', '搬運', '攜帶', '過多', '扛', '龐大', '背上', '嚴', '軍用型', '揹負']\n"
     ]
    }
   ],
   "source": [
    "w1 = 'rain' \n",
    "w2 = 'heavy'  \n",
    "w3 = '雨'; \n",
    "analogy(w1, w2, w3)"
   ]
  },
  {
   "cell_type": "code",
   "execution_count": 19,
   "metadata": {},
   "outputs": [
    {
     "name": "stdout",
     "output_type": "stream",
     "text": [
      "reform : swift :: 改革 : 迅速\n",
      "['迅速', '快速', '迅捷', '立即', '從速', '很快', '更快', '反應', '儘速', '快捷', '迅即', '加快', '馬上', '果斷', '響應']\n"
     ]
    }
   ],
   "source": [
    "w1 = 'reform' \n",
    "w2 = 'swift'  \n",
    "w3 = '改革'; \n",
    "analogy(w1, w2, w3)"
   ]
  },
  {
   "cell_type": "code",
   "execution_count": 20,
   "metadata": {},
   "outputs": [
    {
     "name": "stdout",
     "output_type": "stream",
     "text": [
      "investigation : relentless :: 調查 : 無情\n",
      "['無情', '奮鬥', '掙扎', '不懈地', '堅韌不拔', '光榮', '鍥而不捨', '狡猾', '老套', '英勇', '富足', '呈正', '再現', '中庸', '無與倫比']\n"
     ]
    }
   ],
   "source": [
    "w1 = 'investigation' \n",
    "w2 = 'relentless'  \n",
    "w3 = '調查'; \n",
    "analogy(w1, w2, w3)"
   ]
  },
  {
   "cell_type": "code",
   "execution_count": 21,
   "metadata": {},
   "outputs": [
    {
     "name": "stdout",
     "output_type": "stream",
     "text": [
      "honor : distinct :: 榮譽 : 區別於\n",
      "['區別於', '有別於', '獨特性', '稱謂', '屬性', '特徵', '不同於', '特性', '與衆不同', '截然不同', '獨特', '嘉獎', '稱號', '殊榮']\n"
     ]
    }
   ],
   "source": [
    "w1 = 'honor' \n",
    "w2 = 'distinct'  \n",
    "w3 = '榮譽'; \n",
    "analogy(w1, w2, w3)"
   ]
  },
  {
   "cell_type": "code",
   "execution_count": 22,
   "metadata": {},
   "outputs": [
    {
     "name": "stdout",
     "output_type": "stream",
     "text": [
      "organisation : nonprofit :: 機構 : 機關\n",
      "['機關', '部門', '機制', '實體', '系統', '署', '體制', '構', '組織', '第49/178', '部委', '職能', '當局', '領域']\n"
     ]
    }
   ],
   "source": [
    "w1 = 'organisation' \n",
    "w2 = 'nonprofit'  \n",
    "w3 = '機構'; \n",
    "analogy(w1, w2, w3)"
   ]
  },
  {
   "cell_type": "code",
   "execution_count": 23,
   "metadata": {},
   "outputs": [
    {
     "name": "stdout",
     "output_type": "stream",
     "text": [
      "非盈利 0.5742483139038086\n",
      "非贏利 0.5694575309753418\n",
      "營利性 0.5489251613616943\n",
      "非營利 0.5425974726676941\n",
      "非贏利性 0.5210208296775818\n",
      "非盈利性 0.5199751853942871\n",
      "非營利性 0.511893093585968\n",
      "慈善 0.5034415125846863\n",
      "organization 0.49441787600517273\n",
      "non-governmental 0.47668296098709106\n"
     ]
    },
    {
     "data": {
      "text/plain": [
       "-0.030717693269252777"
      ]
     },
     "execution_count": 23,
     "metadata": {},
     "output_type": "execute_result"
    }
   ],
   "source": [
    "#import numpy as np\n",
    "w1 = 'nonprofit'\n",
    "w1 = w1.encode('utf8')\n",
    "w2 =  '女孩'\n",
    "w2 = oct2s.convert(w2).encode('utf8')\n",
    "x = en_model.word_vec(w1)\n",
    "y = zh_model.word_vec(w2)\n",
    "for (w, s) in model.trg_closest(w1, n=10):\n",
    "    print(ocs2t.convert(w.decode('utf8')), s)\n",
    "model.similarity(w1,w2)\n",
    "#print(np.linalg.norm(x-y))\n"
   ]
  },
  {
   "cell_type": "code",
   "execution_count": 24,
   "metadata": {},
   "outputs": [],
   "source": [
    "import math\n",
    "def euclidean_dist(p1, p2):\n",
    "    return math.sqrt() "
   ]
  },
  {
   "cell_type": "code",
   "execution_count": 25,
   "metadata": {},
   "outputs": [],
   "source": [
    "def en2zht(txt, n=5):\n",
    "    retval = []\n",
    "    for (x,s) in model.trg_closest(txt.encode('utf8'), n):\n",
    "        retval.append(ocs2t.convert(x.decode('utf8')))\n",
    "    return retval\n",
    "\n",
    "def zht2en(txt, n=5):\n",
    "    retval = []\n",
    "    for (x,s) in model.src_closest(oct2s.convert(txt).encode('utf8'), n):\n",
    "        retval.append(x.decode('utf8'))\n",
    "    return retval"
   ]
  },
  {
   "cell_type": "code",
   "execution_count": 26,
   "metadata": {},
   "outputs": [],
   "source": [
    "def enSynonyms(txt, n=5):\n",
    "    retval = []\n",
    "    for (x,s) in en_model.closest(txt.encode('utf8'), n):\n",
    "        retval.append(x.decode('utf8'))\n",
    "    return retval\n",
    "\n",
    "def zhtSynonyms(txt, n=5):\n",
    "    retval = []\n",
    "    for (x,s) in zh_model.closest(oct2s.convert(txt).encode('utf8'), n):\n",
    "        retval.append(ocs2t.convert(x.decode('utf8')))\n",
    "    return retval\n"
   ]
  },
  {
   "cell_type": "code",
   "execution_count": 27,
   "metadata": {},
   "outputs": [
    {
     "data": {
      "text/plain": [
       "['foster', 'promotion', 'facilitate', 'stimulate', 'enhance']"
      ]
     },
     "execution_count": 27,
     "metadata": {},
     "output_type": "execute_result"
    }
   ],
   "source": [
    "enSynonyms('promote')"
   ]
  },
  {
   "cell_type": "code",
   "execution_count": 28,
   "metadata": {},
   "outputs": [
    {
     "data": {
      "text/plain": [
       "['對付',\n",
       " '對',\n",
       " '針對性',\n",
       " '對象',\n",
       " '施暴',\n",
       " '涉及',\n",
       " '矛頭',\n",
       " '瞄準',\n",
       " '面向',\n",
       " '因應',\n",
       " '對準',\n",
       " '指向',\n",
       " '具體',\n",
       " '如對',\n",
       " '受害']"
      ]
     },
     "execution_count": 28,
     "metadata": {},
     "output_type": "execute_result"
    }
   ],
   "source": [
    "zhtSynonyms('針對', n=15)"
   ]
  },
  {
   "cell_type": "code",
   "execution_count": 29,
   "metadata": {},
   "outputs": [
    {
     "name": "stdout",
     "output_type": "stream",
     "text": [
      "dynamic, evolution, trend, evolve, demographic, crustal, recent, dynamically, landscape, dynamical, abreast, interrelationship, tectonic, migration, emerge\n"
     ]
    }
   ],
   "source": [
    "words = {0:'壓倒性', 1:'打擊', 2:'犯罪', 3:'報到', 4:'别有用心',\n",
    "         5:'紛亂',   6:'凌駕', 7:'穩健', 8:'款項', 9:'封建',\n",
    "         10:'基礎', 11:'變遷', 12:'動態', 13:'鞭策', 14:'督促',\n",
    "         15:'永恆', 16:'法則', 17:'亙古不變', 18:'穩健', 19:'維護',\n",
    "         20:'檢舉', 21:'天才', 22:'繼續', 23:'推廣', 24:'宣導',\n",
    "         25:'崗位', 26:'思維', 27:'幹部', 28:'持續', 29:'永續', 30:'焚燒',\n",
    "         31:'阻絕', 32:'斷絕', 33:'體現', 34:'用途', 35:'著作', 36:'針對',\n",
    "         37:'結合'\n",
    "        }\n",
    "print(', '.join(zht2en(words[12], 15)))"
   ]
  },
  {
   "cell_type": "code",
   "execution_count": 30,
   "metadata": {},
   "outputs": [
    {
     "data": {
      "text/plain": [
       "['永恆', '熱愛', '夢想', '神聖', '尊崇', '神', '美麗', '象徵', '靈魂', '祝福']"
      ]
     },
     "execution_count": 30,
     "metadata": {},
     "output_type": "execute_result"
    }
   ],
   "source": [
    "words = {0:'shirk', 1:'credibility', 2:'legitimacy', 3:'cynical', 4:'permeate',\n",
    "         5:'tergiversate', 6:'eternal', 7:'crusade', 8:'splinter', 9:'whining',\n",
    "         10:'product'\n",
    "        }\n",
    "en2zht(words[6], n=10)"
   ]
  },
  {
   "cell_type": "code",
   "execution_count": 31,
   "metadata": {},
   "outputs": [
    {
     "name": "stdout",
     "output_type": "stream",
     "text": [
      "['型態', '趨勢', '趨向', '模式', '規律', '型式', '動態', '變換', '動向', '形態', '變化', '失衡']\n"
     ]
    },
    {
     "data": {
      "text/plain": [
       "['pattern',\n",
       " 'trend',\n",
       " 'change',\n",
       " 'evolution',\n",
       " 'evolve',\n",
       " 'changed',\n",
       " 'demographic',\n",
       " 'skewed',\n",
       " 'consumption',\n",
       " 'dynamic',\n",
       " 'pyramid',\n",
       " 'landscape']"
      ]
     },
     "execution_count": 31,
     "metadata": {},
     "output_type": "execute_result"
    }
   ],
   "source": [
    "words = {0:'推廣', 1:'抱怨', 2:'作品', 3:'格局', 4:'事業',\n",
    "         5:'掛牌', 6:'定位', 7:'', 8:'', 9:'',\n",
    "         10:'', 11:'', 12:'', 13:'', 14:''}\n",
    "\n",
    "print(zhtSynonyms(words[3], 12))\n",
    "zht2en(words[3], 12)"
   ]
  },
  {
   "cell_type": "code",
   "execution_count": 32,
   "metadata": {},
   "outputs": [
    {
     "name": "stdout",
     "output_type": "stream",
     "text": [
      "Object `similarity_ngrams` not found.\n"
     ]
    }
   ],
   "source": [
    "similarity_ngrams?"
   ]
  },
  {
   "cell_type": "code",
   "execution_count": 33,
   "metadata": {},
   "outputs": [
    {
     "data": {
      "text/plain": [
       "0.14274300634860992"
      ]
     },
     "execution_count": 33,
     "metadata": {},
     "output_type": "execute_result"
    }
   ],
   "source": [
    "w1 = 'similar today activity'\n",
    "w1 = w1.encode('utf8')\n",
    "w2 =  '類似 活動 今天'\n",
    "w2 = oct2s.convert(w2).encode('utf8')\n",
    "model.similarity_ngrams(w1, w2)"
   ]
  },
  {
   "cell_type": "markdown",
   "metadata": {},
   "source": [
    "$$\n",
    "r = \\sqrt{x^2 + y^2}\n",
    "$$"
   ]
  },
  {
   "cell_type": "code",
   "execution_count": 34,
   "metadata": {},
   "outputs": [
    {
     "data": {
      "text/plain": [
       "'类似 活动'"
      ]
     },
     "execution_count": 34,
     "metadata": {},
     "output_type": "execute_result"
    }
   ],
   "source": [
    "w2 =  '類似 活動'\n",
    "#w2 = oct2s.convert(w2).encode('utf8')\n",
    "oct2s.convert(w2)"
   ]
  },
  {
   "cell_type": "code",
   "execution_count": 35,
   "metadata": {},
   "outputs": [
    {
     "data": {
      "text/plain": [
       "0.810400128364563"
      ]
     },
     "execution_count": 35,
     "metadata": {},
     "output_type": "execute_result"
    }
   ],
   "source": [
    "w1 = 'similar today activity .'\n",
    "w1 = w1.encode('utf8')\n",
    "w2 =  '類似 活動 今天 。'\n",
    "w2 = oct2s.convert(w2).encode('utf8')\n",
    "model.similarity_bag_of_words(w1, w2)"
   ]
  },
  {
   "cell_type": "code",
   "execution_count": 36,
   "metadata": {},
   "outputs": [
    {
     "data": {
      "text/plain": [
       "[(b'intolerance', 0.7335898876190186),\n",
       " (b'\\xe6\\x8e\\x92\\xe5\\xa4\\x96\\xe4\\xb8\\xbb\\xe4\\xb9\\x89', 0.6756048798561096),\n",
       " (b'\\xe4\\xb8\\x8d\\xe5\\xae\\xbd\\xe5\\xae\\xb9', 0.6631632447242737),\n",
       " (b'\\xe5\\xbc\\x82\\xe5\\xb7\\xb1', 0.6553645133972168),\n",
       " (b'A/57/204', 0.6120954155921936),\n",
       " (b'Racism', 0.5789712071418762),\n",
       " (b'\\xe5\\xbf\\x83\\xe7\\x90\\x86.', 0.5706595182418823),\n",
       " (b'\\xe6\\x8e\\x92\\xe5\\xa4\\x96', 0.5623793005943298),\n",
       " (b'\\xe4\\xbb\\x87\\xe8\\xa7\\x86', 0.5460746884346008),\n",
       " (b'\\xe9\\x98\\xbf\\xe6\\xb1\\x89\\xe6\\xb1\\x89\\xe4\\xbd\\x90', 0.5401766300201416),\n",
       " (b'56/267', 0.5376922488212585),\n",
       " (b'\\xe5\\x8f\\x8d\\xe6\\xad\\xa7\\xe8\\xa7\\x86', 0.5332741737365723),\n",
       " (b'\\xe5\\xae\\xb9\\xe5\\xbf\\x8d', 0.5312885046005249),\n",
       " (b'\\xe7\\xa7\\x8d\\xe6\\x97\\x8f', 0.5269216299057007),\n",
       " (b'\\xe5\\x8f\\x8d\\xe7\\xa7\\x8d\\xe6\\x97\\x8f', 0.5264531970024109),\n",
       " (b'\\xe8\\x8e\\xab\\xe9\\x87\\x8c\\xe6\\x96\\xaf\\xc2\\xb7\\xe6\\xa0\\xbc\\xe8\\x8e\\xb1\\xe8\\x8e\\xb1\\xc2\\xb7\\xe9\\x98\\xbf\\xe6\\xb1\\x89\\xe6\\xb1\\x89\\xe4\\xbd\\x90',\n",
       "  0.5204504728317261),\n",
       " (b'\\xe4\\xb8\\x8d\\xe5\\xae\\xb9\\xe5\\xbc\\x82', 0.5194224119186401),\n",
       " (b'52/109', 0.5180177688598633),\n",
       " (b'Discrimination', 0.5165035128593445),\n",
       " (b'\\xe5\\x90\\x8c\\xe7\\xa7\\x8d\\xe6\\x97\\x8f', 0.5086510181427002)]"
      ]
     },
     "execution_count": 36,
     "metadata": {},
     "output_type": "execute_result"
    }
   ],
   "source": [
    "w = 'racism'\n",
    "model.trg_model.closest(w.encode(), 20)"
   ]
  },
  {
   "cell_type": "code",
   "execution_count": 37,
   "metadata": {},
   "outputs": [
    {
     "data": {
      "text/plain": [
       "8"
      ]
     },
     "execution_count": 37,
     "metadata": {},
     "output_type": "execute_result"
    }
   ],
   "source": [
    "model.window_size"
   ]
  },
  {
   "cell_type": "code",
   "execution_count": 38,
   "metadata": {},
   "outputs": [
    {
     "data": {
      "text/plain": [
       "array([-9.26872715e-02,  4.45970073e-02,  3.88409290e-03,  2.05608383e-02,\n",
       "        3.64419609e-01, -3.87760364e-02, -1.87767167e-02, -1.88943714e-01,\n",
       "       -1.04873581e-02,  1.51205003e-01, -2.56903589e-01, -8.46443027e-02,\n",
       "        2.05461964e-01, -6.24464601e-02, -2.54521906e-01,  4.23786044e-03,\n",
       "       -3.28986526e-01, -1.32155731e-01,  4.63660061e-02, -2.53398150e-01,\n",
       "       -1.40020534e-01,  1.47980303e-01, -2.28821799e-01, -5.03258184e-02,\n",
       "       -3.08285296e-01,  2.22403612e-02, -2.34639451e-01,  3.44327956e-01,\n",
       "       -8.60769153e-02,  5.24819680e-02,  1.15766719e-01, -2.98959851e-01,\n",
       "        1.50657147e-01,  1.74558297e-01, -9.36421752e-03, -9.59974602e-02,\n",
       "       -4.16328251e-01,  3.28109354e-01,  4.22030967e-03, -4.08003516e-02,\n",
       "        3.13971601e-02, -2.82063801e-02, -1.97839588e-01, -4.90760691e-02,\n",
       "        2.64514200e-02, -2.38319784e-01,  1.81103237e-02, -2.17561692e-01,\n",
       "       -9.01859775e-02, -1.67960837e-01, -1.07588060e-01,  1.84607133e-01,\n",
       "        3.27855200e-01,  2.41132062e-02, -1.75087988e-01,  1.52878895e-01,\n",
       "        3.29383239e-02,  1.32836774e-01, -2.39912700e-02,  2.04495266e-01,\n",
       "       -3.92516404e-02, -9.48561504e-02,  6.24303445e-02, -1.40957966e-01,\n",
       "       -1.25521598e-02, -1.83260329e-02, -3.06488037e-01,  1.38356626e-01,\n",
       "       -1.20176017e-01, -6.99646547e-02, -1.13237202e-01, -6.14306331e-03,\n",
       "       -7.92115703e-02,  8.33578967e-03,  9.19507891e-02, -3.27668279e-01,\n",
       "        2.62499094e-01, -3.02365780e-01, -3.75920609e-02, -1.89433560e-01,\n",
       "        2.83664227e-01, -2.44046394e-02, -1.99370161e-02, -4.75353934e-02,\n",
       "        1.02173932e-01, -1.11540556e-01, -1.08350687e-01,  3.81181249e-03,\n",
       "       -3.99034262e-01,  7.17791095e-02,  5.32047637e-02, -2.66912043e-01,\n",
       "       -6.53523952e-02,  4.39258143e-02, -2.05186352e-01, -4.10460588e-03,\n",
       "       -1.79842576e-01, -2.50942200e-01,  6.85402229e-02,  2.80281633e-01,\n",
       "        2.48375759e-01,  4.54265714e-01,  9.86079797e-02, -1.40254900e-01,\n",
       "       -9.69337821e-02,  4.28881347e-02,  1.80865988e-01, -1.66437969e-01,\n",
       "       -7.26043284e-02, -1.27340823e-01, -1.07906088e-01, -1.53196752e-01,\n",
       "        1.88518211e-01, -7.34480913e-04,  3.95419806e-01, -3.08937728e-01,\n",
       "       -3.00129712e-01,  2.84518637e-02, -1.66220605e-01, -1.45821810e-01,\n",
       "       -1.70612577e-02,  2.83377200e-01, -5.80490939e-02, -1.71645910e-01,\n",
       "        2.62230169e-04, -1.89830765e-01,  9.65692103e-03,  5.31267188e-02,\n",
       "        2.68898219e-01,  4.32668567e-01,  9.01701376e-02,  4.50044498e-02,\n",
       "       -1.67803600e-01,  2.30724886e-01, -1.80869371e-01,  5.64682558e-02,\n",
       "       -2.65336961e-01,  9.14936140e-02,  3.08139436e-03,  3.72368932e-01,\n",
       "       -1.31930381e-01, -2.20735103e-01,  8.00960436e-02,  3.22245777e-01,\n",
       "        1.23245016e-01, -1.57473579e-01, -1.82483077e-01,  1.14818364e-01,\n",
       "       -2.41351128e-01, -3.85660350e-01,  3.74123938e-02, -2.91563958e-01,\n",
       "        2.14708447e-01,  1.83189064e-01, -1.55431166e-01, -5.48200384e-02,\n",
       "        2.99404681e-01,  2.34992340e-01,  2.69497097e-01,  1.08327262e-01,\n",
       "       -4.79504734e-01, -1.82115298e-03, -1.15081947e-02,  3.08044851e-01,\n",
       "       -2.31261104e-01, -1.71915904e-01,  3.21002990e-01,  9.69316158e-03,\n",
       "        6.88981712e-02,  2.47982487e-01,  3.13084960e-01,  2.12741867e-01,\n",
       "        2.31955927e-02,  1.68688968e-01,  1.45662706e-02, -1.75651953e-01,\n",
       "       -1.84902921e-01,  1.69711187e-02,  9.76373702e-02,  1.74910843e-01,\n",
       "        9.49226096e-02, -5.83198369e-02, -1.49613172e-01, -1.92229554e-01,\n",
       "       -8.23254362e-02, -1.66080713e-01, -1.51751995e-01, -7.93442726e-02,\n",
       "       -1.10642863e-02,  7.31933862e-02, -3.94499935e-02,  2.15734318e-01,\n",
       "        7.97036514e-02,  1.90697581e-01,  5.36397006e-03,  1.23460405e-01,\n",
       "        5.20173572e-02, -3.09671406e-02, -2.47666501e-02,  1.04477026e-01])"
      ]
     },
     "execution_count": 38,
     "metadata": {},
     "output_type": "execute_result"
    }
   ],
   "source": [
    "model.trg_model.word_vec('policy'.encode())"
   ]
  },
  {
   "cell_type": "code",
   "execution_count": 39,
   "metadata": {},
   "outputs": [
    {
     "data": {
      "text/plain": [
       "<function MonolingualModel.save_sent_vectors>"
      ]
     },
     "execution_count": 39,
     "metadata": {},
     "output_type": "execute_result"
    }
   ],
   "source": [
    "model.src_model.save_sent_vectors"
   ]
  }
 ],
 "metadata": {
  "kernelspec": {
   "display_name": "Python 3",
   "language": "python",
   "name": "python3"
  },
  "language_info": {
   "codemirror_mode": {
    "name": "ipython",
    "version": 3
   },
   "file_extension": ".py",
   "mimetype": "text/x-python",
   "name": "python",
   "nbconvert_exporter": "python",
   "pygments_lexer": "ipython3",
   "version": "3.6.6"
  }
 },
 "nbformat": 4,
 "nbformat_minor": 2
}
