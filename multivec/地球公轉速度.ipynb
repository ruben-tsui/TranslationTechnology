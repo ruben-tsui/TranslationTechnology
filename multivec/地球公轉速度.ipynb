{
 "cells": [
  {
   "cell_type": "markdown",
   "metadata": {},
   "source": [
    "# 地球公轉速度計算"
   ]
  },
  {
   "cell_type": "markdown",
   "metadata": {},
   "source": [
    "### 如果有人跟你說，地球的公轉速度約是每小時十萬七千公里， 你相信嗎？"
   ]
  },
  {
   "cell_type": "markdown",
   "metadata": {},
   "source": [
    "### 如何證明或推翻這個説法？"
   ]
  },
  {
   "cell_type": "markdown",
   "metadata": {},
   "source": [
    "## 假設"
   ]
  },
  {
   "cell_type": "markdown",
   "metadata": {},
   "source": [
    "### (1) 1年有365.25 天"
   ]
  },
  {
   "cell_type": "markdown",
   "metadata": {},
   "source": [
    "### (2) 地球繞太陽的軌道：圓形"
   ]
  },
  {
   "cell_type": "markdown",
   "metadata": {},
   "source": [
    "## 計算"
   ]
  },
  {
   "cell_type": "markdown",
   "metadata": {},
   "source": [
    "### 複習： 速度的定義\n",
    "\n",
    "速度 = 距離 / 時間"
   ]
  },
  {
   "cell_type": "markdown",
   "metadata": {},
   "source": [
    "## 距離 = 地球繞日軌道 （假設是圓形）\n",
    "\n",
    "## 距離 = 地球繞日軌道的圓周\n",
    "        = 直徑 x π"
   ]
  },
  {
   "cell_type": "markdown",
   "metadata": {},
   "source": [
    "圓周率 = $\\pi$ ≈ $3.141592653589793$\n",
    "\n",
    "$r$ = 地球繞日軌道半徑 = 地球與太陽之距離 = $150 × 10^6$ km (1億5千萬公里)\n",
    "\n",
    "距離 = 地球繞日軌道的圓周 = $d × \\pi $ = $2 \\pi r$"
   ]
  },
  {
   "cell_type": "code",
   "execution_count": 1,
   "metadata": {},
   "outputs": [
    {
     "data": {
      "text/plain": [
       "942477796.0769379"
      ]
     },
     "execution_count": 1,
     "metadata": {},
     "output_type": "execute_result"
    }
   ],
   "source": [
    "距離 = 2 * 3.141592653589793 * 150 * 10**6 # 單位： km\n",
    "距離"
   ]
  },
  {
   "cell_type": "code",
   "execution_count": 2,
   "metadata": {},
   "outputs": [
    {
     "data": {
      "text/plain": [
       "8766.0"
      ]
     },
     "execution_count": 2,
     "metadata": {},
     "output_type": "execute_result"
    }
   ],
   "source": [
    "## 因為地球繞日一週 為 1 年，我們需要轉換成小時\n",
    "\n",
    "時間 = 365.25 * 24  # 單位： 小時 (hour)\n",
    "時間"
   ]
  },
  {
   "cell_type": "code",
   "execution_count": 3,
   "metadata": {},
   "outputs": [
    {
     "data": {
      "text/plain": [
       "107515"
      ]
     },
     "execution_count": 3,
     "metadata": {},
     "output_type": "execute_result"
    }
   ],
   "source": [
    "速度 = 距離 / 時間   # 單位： 公里/小時 (km/h)\n",
    "round(速度)"
   ]
  },
  {
   "cell_type": "markdown",
   "metadata": {},
   "source": [
    "# 我們姑且接受以上説法\n",
    "# ALL RIGHT!!"
   ]
  },
  {
   "cell_type": "code",
   "execution_count": null,
   "metadata": {},
   "outputs": [],
   "source": []
  }
 ],
 "metadata": {
  "kernelspec": {
   "display_name": "Python 3",
   "language": "python",
   "name": "python3"
  },
  "language_info": {
   "codemirror_mode": {
    "name": "ipython",
    "version": 3
   },
   "file_extension": ".py",
   "mimetype": "text/x-python",
   "name": "python",
   "nbconvert_exporter": "python",
   "pygments_lexer": "ipython3",
   "version": "3.6.6"
  }
 },
 "nbformat": 4,
 "nbformat_minor": 2
}
