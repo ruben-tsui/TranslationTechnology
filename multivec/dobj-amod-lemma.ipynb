{
 "cells": [
  {
   "cell_type": "code",
   "execution_count": 1,
   "metadata": {},
   "outputs": [],
   "source": [
    "\"\"\"\n",
    "Created on Fri Jan 12 18:33:56 2018\n",
    "@author: ruben\n",
    "\"\"\"\n",
    "import io\n",
    "import time\n",
    "import pickle\n",
    "import gzip\n",
    "from opencc import OpenCC\n",
    "ocs2t = OpenCC('s2t')\n",
    "oct2s = OpenCC('t2s')"
   ]
  },
  {
   "cell_type": "code",
   "execution_count": 31,
   "metadata": {},
   "outputs": [
    {
     "name": "stdout",
     "output_type": "stream",
     "text": [
      "JJ_ZH, NN_ZH, JJ_EN and NN_EN took 6.05  seconds to build\n"
     ]
    }
   ],
   "source": [
    "# Read English dobj-collocation pairs\n",
    "start_time = time.time()\n",
    "\n",
    "folder = '/mnt/c/NLP/collo/'\n",
    "\n",
    "depen_reln = ('dobj', 'amod', 'nn')[0]  # select an appropriate dependency relationship\n",
    "\n",
    "pickle_in = gzip.open( folder + depen_reln + \".jj.zhs.gz\", \"rb\")\n",
    "JJ_ZH = pickle.load(pickle_in)\n",
    "pickle_in.close()\n",
    "\n",
    "pickle_in = gzip.open( folder + depen_reln + \".nn.zhs.gz\", \"rb\")\n",
    "NN_ZH = pickle.load(pickle_in)\n",
    "pickle_in.close()\n",
    "\n",
    "pickle_in = gzip.open( folder + depen_reln + \".jj.en.gz\", \"rb\")\n",
    "JJ_EN = pickle.load(pickle_in)\n",
    "pickle_in.close()\n",
    "\n",
    "pickle_in = gzip.open( folder + depen_reln + \".nn.en.gz\", \"rb\")\n",
    "NN_EN = pickle.load(pickle_in)\n",
    "pickle_in.close()\n",
    "\n",
    "elapsed_time = round(time.time() - start_time, 2)\n",
    "print(\"JJ_ZH, NN_ZH, JJ_EN and NN_EN took\", elapsed_time, \" seconds to build\")\n"
   ]
  },
  {
   "cell_type": "code",
   "execution_count": 3,
   "metadata": {},
   "outputs": [
    {
     "data": {
      "text/plain": [
       "'dobj'"
      ]
     },
     "execution_count": 3,
     "metadata": {},
     "output_type": "execute_result"
    }
   ],
   "source": [
    "depen_reln"
   ]
  },
  {
   "cell_type": "code",
   "execution_count": 4,
   "metadata": {},
   "outputs": [
    {
     "data": {
      "text/plain": [
       "(25152, 6032, 64167, 25975)"
      ]
     },
     "execution_count": 4,
     "metadata": {},
     "output_type": "execute_result"
    }
   ],
   "source": [
    "len(JJ_EN), len(NN_EN), len(JJ_ZH), len(NN_ZH)"
   ]
  },
  {
   "cell_type": "code",
   "execution_count": 5,
   "metadata": {},
   "outputs": [
    {
     "name": "stdout",
     "output_type": "stream",
     "text": [
      "保證 | 促進 | 影響 | 認識 | 聯 | 限制 | 失去 | 改進 | 充實 | 作 | 協助 | 傳播 | 有助於 | 危及 | 妨礙 | 支持 | 確保 | 破壞 | 重視 | 包括 | 加強 | 需要 | 有所 | 加以 | 服務 | 阻礙 | 得到 | "
     ]
    }
   ],
   "source": [
    "words = '''\n",
    "凝聚力 壓制 主權 必然 肯定 必須 發揮 \n",
    "'''\n",
    "w = words.strip().split()[-1]\n",
    "#' | '.join(zh2en(words[-1], 35))\n",
    "w = oct2s.convert(w)\n",
    "for x in JJ_ZH[oct2s.convert(w)]: print(ocs2t.convert(x), '| ', end='')"
   ]
  },
  {
   "cell_type": "code",
   "execution_count": 6,
   "metadata": {},
   "outputs": [
    {
     "name": "stdout",
     "output_type": "stream",
     "text": [
      "offend | reclaim | achieve | declare | prevent | void | concern | preserve | relegate | wish | compromise | put | change | safeguard | keep | emphasize | possess | contest | regard | maintain | reject | solve | secure | have | limit | grant | remove | proclaim | express | endanger | explain | share | recover | reiterate | impair | advocate | ensure | consolidate | gain | underpin | protect | include | question | extend | confirm | acknowledge | relinquish | defend | curtail | recognize | accept | reaffirm | balance | assault | article | alienate | hold | reinforce | enjoy | infringe | surrender | attain | usurp | reconfirm | forgo | know | suspend | exert | say | conceptualize | stress | set | waive | honour | erode | enshrine | diminish | lose | implement | ignore | adjudicate | assert | challenge | affect | subvert | provide | want | cite | assume | impose | breach | prejudice | negotiate | nullify | promote | threaten | reassume | undermine | bear | restore | involve | expand | derogate | cede | override | jeopardize | value | perfect | resume | restrict | uphold | reconcile | begin | reinstate | weaken | give | return | establish | guarantee | regain | address | defy | disregard | represent | urge | contradict | call | claim | eliminate | harm | transfer | signify | govern | support | seek | mention | use | affirm | abandon | obtain | embody | determine | take | modify | entitle | see | bring | restate | destroy | regulate | flout | reduce | entail | disrupt | retain | violate | discuss | renounce | consider | reassert | target | exercise | strengthen | respect | hand | acquire | win | "
     ]
    }
   ],
   "source": [
    "words = '''\n",
    "hole sovereignty  \n",
    "'''\n",
    "w = words.strip().split()[-1]#for x in NN_EN['supervise']: print x,\n",
    "for x in JJ_EN[w]: print(x, '| ', end='')\n",
    "#print len(NN_EN)"
   ]
  },
  {
   "cell_type": "code",
   "execution_count": 7,
   "metadata": {},
   "outputs": [],
   "source": [
    "from multivec import BilingualModel, MonolingualModel"
   ]
  },
  {
   "cell_type": "code",
   "execution_count": 8,
   "metadata": {},
   "outputs": [
    {
     "name": "stdout",
     "output_type": "stream",
     "text": [
      "Multivec bilingual and monolingal models took  67.15  seconds to load\n"
     ]
    }
   ],
   "source": [
    "start_time = time.time()\n",
    "from multivec import MonolingualModel, BilingualModel\n",
    "MODEL = ['lemma', 'os', 'un16m'][0]\n",
    "mode = None; model_en = None; model_zh = None\n",
    "if MODEL == 'lemma':\n",
    "    model = BilingualModel(b'/mnt/c/NLP/collo/un4m.lemma.bin')\n",
    "    model_en = model.src_model\n",
    "    model_zh = model.trg_model\n",
    "elif MODEL == 'os':\n",
    "    model = BilingualModel('oscleaned.en-zh.bin')\n",
    "elif MODEL == 'un16m':\n",
    "    model = BilingualModel('un16m.bin')\n",
    "    \n",
    "elapsed_time = round(time.time() - start_time, 2)\n",
    "print(\"Multivec bilingual and monolingal models took \", elapsed_time, \" seconds to load\")\n"
   ]
  },
  {
   "cell_type": "code",
   "execution_count": 9,
   "metadata": {},
   "outputs": [
    {
     "data": {
      "text/plain": [
       "\u001b[0;31mDocstring:\u001b[0m <no docstring>\n",
       "\u001b[0;31mType:\u001b[0m      builtin_function_or_method\n"
      ]
     },
     "metadata": {},
     "output_type": "display_data"
    }
   ],
   "source": [
    "model.trg_closest?"
   ]
  },
  {
   "cell_type": "code",
   "execution_count": 10,
   "metadata": {},
   "outputs": [],
   "source": [
    "def getCollocates(v, n, k): # 英翻中\n",
    "\n",
    "    v = v.encode(); n = n.encode()\n",
    "    base_trg = [w.decode('utf8') for (w,s) in model.trg_closest(n, 8)]\n",
    "    k = 0\n",
    "    candidates = set()\n",
    "    for b in base_trg:\n",
    "        b = oct2s.convert(b)\n",
    "        if b in JJ_ZH:\n",
    "            colloSize = len(JJ_ZH[b])\n",
    "            print(ocs2t.convert(b), ' - no. of collocations:', colloSize)\n",
    "            if colloSize > 2000:\n",
    "                colloSize = 2000\n",
    "            for col in list(JJ_ZH[b])[0:colloSize]:\n",
    "                col = ocs2t.convert(col)\n",
    "                col = col.encode(\"utf8\")\n",
    "                #print \"| col\", col,\n",
    "                try:\n",
    "                    sim = model.similarity(v, col)\n",
    "                    if sim >= 0.40:\n",
    "                        k += 1\n",
    "                        candidates.update([col.decode('utf8')])\n",
    "                except:\n",
    "                    #print \"* v0\", \"not found\"\n",
    "                    continue\n",
    "    return (base_trg, candidates, k)\n"
   ]
  },
  {
   "cell_type": "code",
   "execution_count": 11,
   "metadata": {},
   "outputs": [
    {
     "name": "stdout",
     "output_type": "stream",
     "text": [
      "官員  - no. of collocations: 602\n",
      "官員們  - no. of collocations: 13\n",
      "公務  - no. of collocations: 45\n",
      "高官  - no. of collocations: 5\n",
      "官方  - no. of collocations: 88\n",
      "要員  - no. of collocations: 2\n",
      "接待費  - no. of collocations: 1\n",
      "k = 8\n",
      "\n",
      "* Collocation candidates look-up: 0.38 sec\n",
      "* Bases:\n",
      "官員, 官員們, 公務, 高官, 官方, 要員, 正式, 接待費\n",
      "* Collocates:\n",
      "聘任, 委派, 指定, 委任, 提名, 任命, 任, 指派\n"
     ]
    }
   ],
   "source": [
    "start_time = time.time()\n",
    "v = 'negotiate'; n = 'freedom'; \n",
    "v = 'threaten'; n = 'rule'\n",
    "v = 'contemplate'; n = 'presence'\n",
    "v = 'spearhead'; n = 'movement'\n",
    "v = 'secure'; n = 'majority'\n",
    "#v = 'compromise'; n = 'position'\n",
    "#v = 'convince'; n = 'veracity'\n",
    "#v = 'assume'; n = 'responsibility'\n",
    "#v = 'shirk'; n = 'responsibility'\n",
    "#v = 'fair'; n = 'game'\n",
    "v = ''; n = ''\n",
    "v = 'combat'; n = 'crime'\n",
    "v = 'oppress'; n = 'freedom'\n",
    "v = 'cause'; n = 'trouble'\n",
    "v = 'deliver'; n = 'ruling'\n",
    "v = 'appoint'; n = 'official'\n",
    "k = -1\n",
    "(base_trg, candidates, k) = getCollocates(v, n, k)\n",
    "print(\"k =\", k)\n",
    "elapsed_time = round(time.time() - start_time, 2)\n",
    "print(\"\\n* Collocation candidates look-up:\", elapsed_time, \"sec\")\n",
    "print(\"* Bases:\")\n",
    "print(', '.join([ocs2t.convert(b) for b in base_trg]))\n",
    "print(\"* Collocates:\")\n",
    "print(', '.join([ocs2t.convert(b) for b in candidates]))"
   ]
  },
  {
   "cell_type": "code",
   "execution_count": 12,
   "metadata": {},
   "outputs": [
    {
     "data": {
      "text/plain": [
       "['聘任', '委派', '指定', '委任', '提名', '任命', '任', '指派']"
      ]
     },
     "execution_count": 12,
     "metadata": {},
     "output_type": "execute_result"
    }
   ],
   "source": [
    "[w for w in candidates]"
   ]
  },
  {
   "cell_type": "code",
   "execution_count": 13,
   "metadata": {},
   "outputs": [
    {
     "name": "stdout",
     "output_type": "stream",
     "text": [
      "驅散 | 利用 | 準備 | 禁止 | 震撼 | 受到 | 應付 | 直指 | 中的 | 提醒 | 返回 | 爆發 | 犯有 | 逃離 | 陷入 | 起因於 | 激起 | 製造 | 引起 | 制止 | 篡奪 | 發生 | 進行 | 反 | 察 | 有 | 發動 | 接受 | 殺害 | 對在 | 減少 | 參與 | 譴責 | 處理 | 鎮壓 | 稱爲 | 反擊 | 導致 | 懲罰 | 佔 | 出現 | 開展 | 武裝 | 歡迎 | 造成 | 表示 | 襲擊 | 參加 | 終止 | 成爲 | 煽動 | 發向 | 來自 | "
     ]
    }
   ],
   "source": [
    "for x in JJ_ZH['暴乱']: print(ocs2t.convert(x), '| ', end='')"
   ]
  },
  {
   "cell_type": "code",
   "execution_count": 33,
   "metadata": {},
   "outputs": [
    {
     "name": "stdout",
     "output_type": "stream",
     "text": [
      "dare | overwhelmed | speculate | canvass | fiercely | quietly | frenzy | impatience | able | fend | yesterday | unable | afraid | mad | collegially | relive | lavish | scalp | unsuccessfully | tired | disloyal | misfortune | unending | preoccupy | recount | Greed | alone | overwhelm | grip | inability | "
     ]
    }
   ],
   "source": [
    "words = '''\n",
    "壓倒性 打擊 過度 美中不足 證實 無數 很多 誤差 計算 熱衷 變化 自製 主流 持續 \n",
    "改革 精確 整理 執著  丈量 推翻 遺憾 煎熬 流傳 於世 後世 模仿 壓制 因此 貢獻 \n",
    "激勵 鼓舞 喜悅 顛沛  流離 開宗明義 發揮 規範 希望 給 圖像 規範 充滿 過程 推導 \n",
    "不道德 改進 完整性 付之一炬 否認 叛逆 細膩 思考 敏銳 外快 主張 不滿 仇視 無奈 \n",
    "拘束 委託 基準 共同體 例示 果然 所作所為 論述 作風 傑出 正直 珍貴 豎立 榜樣 \n",
    "損耗  耗損 強勁 消耗 模糊 推動力 否定 排斥 招架 \n",
    "'''\n",
    "w = words.strip().split()[-1]\n",
    "#' | '.join(zh2en(words[-1], 35))\n",
    "w = oct2s.convert(w)\n",
    "for (x, s) in model.src_closest(w.encode(), 30): print(x.decode(), '| ', end='')"
   ]
  },
  {
   "cell_type": "code",
   "execution_count": 15,
   "metadata": {},
   "outputs": [
    {
     "name": "stdout",
     "output_type": "stream",
     "text": [
      "動盪 | 認識 | 予以 | 受到 | 搞 | 面對 | 限制 | 戰勝 | 鼓勵 | 發生 | 進行 | 反 | 加劇 | 有 | 減少 | 無 | 處理 | 消除 | 確保 | 防止 | 存在 | 帶來 | 包括 | 缺乏 | 導致 | 遭受 | 害怕 | 有所 | 結束 | 反對 | 免於 | 訂立 | 免遭 | 舉辦 | 出現 | 受 | 加以 | 作爲 | 產生 | 造成 | 減輕 | 遭 | 表現 | 沒有 | 遭到 | 注意 | 克服 | 發表 | 相對於 | 製造 | "
     ]
    }
   ],
   "source": [
    "for x in JJ_ZH[w]: print(ocs2t.convert(x), '| ', end='')"
   ]
  },
  {
   "cell_type": "code",
   "execution_count": 16,
   "metadata": {},
   "outputs": [
    {
     "name": "stdout",
     "output_type": "stream",
     "text": [
      "script | lifestyle | mentality | mindedness | mode | rote | tone | metaphor | mindset | game | subtle | monolithic | mixture | paradigm | collegial | confrontational | format | saxon | slogan | hybrid | dance | modern | joke | behaviour | geometric | hobby | classical | spoken | unconventional | materialistic | "
     ]
    }
   ],
   "source": [
    "words = '''\n",
    "cease entail contain enthusiastic contribution prevailing prevalent subversive \n",
    "revolutionary radical phenomenon famous known continuously attraction measure \n",
    "regulation stipulate suffering agonizing desire invent conjecture legacy suppress \n",
    "deny obtain poverty confirm model offer theoretical derive burn retract conformance \n",
    "protection improved trolley questionable action move advocate style policy \n",
    "ego  referee judge  fallacy  theorize condition forget fact truth topic theme \n",
    "offender offense abomination struggle upright banish promote infinite blame explain \n",
    "discuss divorced revolutionary phenomena manifestation propose drift contrition \n",
    "attrition friction depletion blurred obsession adhere turmoil style \n",
    "'''\n",
    "w = words.strip().split()[-1]\n",
    "#' | '.join(zh2en(words[-1], 35))\n",
    "for (x, s) in model_en.closest(w.encode(), 30): print(x.decode(), '| ', end='')"
   ]
  },
  {
   "cell_type": "code",
   "execution_count": 17,
   "metadata": {},
   "outputs": [
    {
     "name": "stdout",
     "output_type": "stream",
     "text": [
      "理論 | 理論性 | 純理論 | 原理 | 實踐 | 概念上 | 哲學 | 實用 | 理論化 | 概念 | 學說 | 內涵 | 推理 | 抽象 | 方法論 | 學術性 | 法律學 | 概念性 | 數學 | 法理 | 法學 | 實際 | 純粹 | 學派 | 社會學 | 理論課 | 法律性 | 描述性 | 方法學 | 經驗性 | "
     ]
    }
   ],
   "source": [
    "words = '''\n",
    "manipulate fluctuate motivation contagious trick priming mentality mindset \n",
    "experimenter attractive stressful prefer physical measuring  inspiring rapport \n",
    "desire legacy relevance relevant official outlaw illegitimate illegal retract \n",
    "trolley cablecar desperate trolley careen action theorize theoretical \n",
    "'''\n",
    "w = words.strip().split()[-1]\n",
    "#' | '.join(zh2en(words[-1], 35))\n",
    "for (x, s) in model.trg_closest(w.encode(), 30): print(ocs2t.convert(x.decode()), '| ', end='')"
   ]
  },
  {
   "cell_type": "code",
   "execution_count": 18,
   "metadata": {},
   "outputs": [],
   "source": [
    "def getCollocates2(v, n, k, simThreshold=0.35): # 中翻英\n",
    "    '''\n",
    "    v, n: Chinese, zh-cn, UTF-8\n",
    "    '''\n",
    "    \n",
    "    vs = oct2s.convert(v).encode() # convert to zh-tw, and then to bytecode before passing to library\n",
    "    #print(\"vs=\", vs)\n",
    "    ns = oct2s.convert(n).encode()\n",
    "    #print(\"ns=\", ns)\n",
    "    base_src = [w.decode('utf8') for (w,s) in model.src_closest(ns, 10)]\n",
    "    k = 0\n",
    "    candidates = set()\n",
    "    for b in base_src:\n",
    "        if b in JJ_EN:\n",
    "            colloSize = len(JJ_EN[b])\n",
    "            print(b, '- no. of collocations:', colloSize)\n",
    "            #colloSize = min(colloSize, 3000)\n",
    "            for col in list(JJ_EN[b])[0:colloSize]:\n",
    "                #print \"| col\", col,\n",
    "                try:\n",
    "                    sim = model.similarity(col.encode(), vs)\n",
    "                    if sim >= simThreshold:\n",
    "                        k += 1\n",
    "                        candidates.update([col])\n",
    "                except:\n",
    "                    #print \"* v0\", \"not found\"\n",
    "                    continue\n",
    "    return (base_src, candidates, k)"
   ]
  },
  {
   "cell_type": "code",
   "execution_count": 41,
   "metadata": {},
   "outputs": [
    {
     "name": "stdout",
     "output_type": "stream",
     "text": [
      "responsibility - no. of collocations: 485\n",
      "liability - no. of collocations: 180\n",
      "abdication - no. of collocations: 5\n",
      "onus - no. of collocations: 13\n",
      "shoulder - no. of collocations: 11\n",
      "duty - no. of collocations: 243\n",
      "accountable - no. of collocations: 1\n",
      "obligation - no. of collocations: 442\n",
      "k = 131\n",
      "\n",
      "* Collocation candidates look-up: 0.33 sec\n",
      "* Bases:     \n",
      "    responsibility, liability, abdication, onus, shirk, shoulder, duty, accountable, obligation, criminally\n",
      "* Collocates:\n",
      "    shirk, vest, circumvent, exonerate, elude, betray, dilute, disclaim, defy, supplant, discharge, overlook, transcend, relegate, disregard, obscure, devolve, assume, refuse, bestow, trigger, camouflage, arrogate, rest, relieve, abandon, enjoin, skirt, usurp, deflect, fail, excuse, fulfill, disown, ascribe, shun, flout, fulfil, cede, forget, preclude, entrust, overburden, override, extinguish, negate, do, subordinate, escape, sidestep, renounce, waive, repudiate, evade, reassert, abdicate, diminish, obey, impute, invoke, lie, confer, caregiv, neglect, ignore, shoulder, relinquish\n"
     ]
    }
   ],
   "source": [
    "start_time = time.time()\n",
    "\n",
    "\n",
    "#v = '幫助'; n = '成長';\n",
    "#v = '侵犯'; n = '權利';\n",
    "v = '減低'; n = '稅收';\n",
    "v = '過度'; n = '打擊';\n",
    "v = '流血'; n = '衝突'\n",
    "v = '肩負'; n = '責任'\n",
    "v = '大幅度'; n = '增加'\n",
    "v = '侵犯'; n = '權益';\n",
    "v = '侵犯'; n = '隱私';\n",
    "v = '前進'; n = '戰場';\n",
    "v = '健全'; n = '基礎';\n",
    "v = '遵守'; n = '程序';\n",
    "v = '維護'; n = '利益';\n",
    "v = '承擔'; n = '責任';\n",
    "v = '損害'; n = '名譽';\n",
    "#v = '通過'; n = '憲法';\n",
    "v = '減輕'; n = '負擔'; \n",
    "v = '執行'; n = '法律';\n",
    "v = '實現'; n = '夢想';\n",
    "v = '實現'; n = '願望';\n",
    "v = '交換'; n = '角色';\n",
    "v = '防止'; n = '騷亂';\n",
    "v = '保障'; n = '人權';\n",
    "v = '通過'; n = '憲法';\n",
    "v = '通過'; n = '條例';\n",
    "v = '制訂'; n = '規範';\n",
    "v = '超越'; n = '目標';\n",
    "#v = '達成'; n = '目標';\n",
    "#v = '制訂'; n = '法律';\n",
    "v = '持續'; n = '成長';  # sustain\n",
    "v = ''; n = ''\n",
    "v = '引起'; n = '恐慌'\n",
    "v = '補償'; n = '遺憾'\n",
    "v = '鼓起'; n = '勇氣'\n",
    "v = '改善'; n = '缺失'\n",
    "v = '抒解'; n = '恐懼'\n",
    "v = '保障'; n = '權益';\n",
    "v = '打擊'; n = '犯罪'; \n",
    "v = '放下'; n = '身段'; \n",
    "v = '殘酷'; n = '現實'; \n",
    "v = '展現'; n = '風度'; \n",
    "v = '推卸'; n = '責任';\n",
    "\n",
    "k = -1\n",
    "(base_src, candidates, k) = getCollocates2(v, n, k, simThreshold=0.25)\n",
    "base_src = [ele for ele in base_src]\n",
    "print(\"k =\", k)\n",
    "elapsed_time = round(time.time() - start_time, 2)\n",
    "print(\"\\n* Collocation candidates look-up:\", elapsed_time, \"sec\")\n",
    "print(\"* Bases:     \\n\", ' ', end=''); print(\" \", ', '.join(base_src))\n",
    "print(\"* Collocates:\\n\", ' ', end=''); print(\" \", ', '.join(list(candidates)))\n"
   ]
  },
  {
   "cell_type": "code",
   "execution_count": 29,
   "metadata": {},
   "outputs": [
    {
     "data": {
      "text/plain": [
       "'lamentable | painful | tough | many | outrageous | genocidal | palestinian | cruel | eternal | deep | sad | lethal | cuban | tragic | naked | alarming | colonialist | perilous | monolithic | unjust | brute | emotional | reactionary | harsh | unfortunate | gruesome | terrible | distorted | severe | bleak | brutal | troubling | oppressive | grim | archaic | striking | cold | utopian | disturbing | widespread | atrocious | horrific | apocalyptic | perverse | most | profound | hidden | distressing | dramatic | serious | appalling | discouraging | shameful | shocking | combative | numerous | diseased | pervasive | reformist | totalitarian | terrifying | dark | sombre | dire | sordid | unacceptable | grave | unwelcome | contemporary | vivid | horrible | colonial | biased | prejudiced | conspicuous | excessive | devastating | dangerous | very | stark | illegal | sobering | past | bitter | prevalent | wrong | inhuman | barbaric | frustrating | racist | extremist | bad | eritrean'"
      ]
     },
     "execution_count": 29,
     "metadata": {},
     "output_type": "execute_result"
    }
   ],
   "source": [
    "' | '.join(candidates)"
   ]
  },
  {
   "cell_type": "code",
   "execution_count": 39,
   "metadata": {},
   "outputs": [
    {
     "name": "stdout",
     "output_type": "stream",
     "text": [
      "推卸 | 盡到 | 責任 | 責無旁貸 | 義不容辭 | 迴避 | 有責任 | 責怪 | "
     ]
    }
   ],
   "source": [
    "w = 'credibility'\n",
    "w = 'legitimacy'; w = 'cynic'\n",
    "w = 'permeate'; w = 'tergiversate'; \n",
    "w = 'eternal'\n",
    "w = 'shirk'\n",
    "for (x,s) in model.trg_closest(w.encode('utf8'), 8): print(ocs2t.convert(x.decode('utf8')), '| ', end='')"
   ]
  },
  {
   "cell_type": "code",
   "execution_count": 22,
   "metadata": {},
   "outputs": [
    {
     "data": {
      "text/plain": [
       "'打擊'"
      ]
     },
     "execution_count": 22,
     "metadata": {},
     "output_type": "execute_result"
    }
   ],
   "source": [
    "v"
   ]
  },
  {
   "cell_type": "code",
   "execution_count": 38,
   "metadata": {},
   "outputs": [
    {
     "name": "stdout",
     "output_type": "stream",
     "text": [
      "complaint\n",
      "investigate\n",
      "investigating\n",
      "prosecute\n",
      "investigation\n",
      "inquiry\n",
      "prosecution\n",
      "violator\n",
      "investigatory\n",
      "alleged\n",
      "informant\n",
      "detective\n",
      "incriminated\n",
      "illtreatment\n",
      "maltreatment\n"
     ]
    }
   ],
   "source": [
    "w = '壓倒性'; w = '打擊'; w = u'犯罪'; w = u'報到'; w = u'别有用心'; w = u'紛亂'; w = u'凌駕'\n",
    "w = '穩健'; w = '款項'; w = u'封建'; w = u'基礎'; w = u'變遷'; w = u'動態'; w = u'鞭策'; w = u'督促'\n",
    "w = '永恆'; w = '法則' #亙古不變\n",
    "w = '穩健'; w = '維護'; w = u'檢舉'\n",
    "w = oct2s.convert(w)\n",
    "for (x, s) in model.src_closest(w.encode(\"utf8\"), 15): print(x.decode('utf8'))"
   ]
  },
  {
   "cell_type": "code",
   "execution_count": 37,
   "metadata": {},
   "outputs": [
    {
     "name": "stdout",
     "output_type": "stream",
     "text": [
      "貫穿\n",
      "深植\n",
      "方方面面\n",
      "紮根於\n",
      "無處不在\n",
      "兩極分化\n",
      "植根於\n",
      "深入人心\n",
      "滲透\n",
      "遍及\n",
      "根於\n",
      "形形色色\n",
      "深深\n",
      "心中\n",
      "分化\n"
     ]
    }
   ],
   "source": [
    "w = 'appropriate'\n",
    "w = 'delicacy'\n",
    "w = 'bureaucracy'\n",
    "w = 'upheaval'\n",
    "w = 'perturbation'\n",
    "w = 'sophisticated'\n",
    "w = 'cause'\n",
    "w = 'vacate'\n",
    "w = 'permeate'\n",
    "for (x,s) in model.trg_closest(w.encode('utf8'), 15): print(ocs2t.convert(x.decode('utf8')))"
   ]
  },
  {
   "cell_type": "code",
   "execution_count": null,
   "metadata": {},
   "outputs": [],
   "source": []
  }
 ],
 "metadata": {
  "kernelspec": {
   "display_name": "Python 3",
   "language": "python",
   "name": "python3"
  },
  "language_info": {
   "codemirror_mode": {
    "name": "ipython",
    "version": 3
   },
   "file_extension": ".py",
   "mimetype": "text/x-python",
   "name": "python",
   "nbconvert_exporter": "python",
   "pygments_lexer": "ipython3",
   "version": "3.6.8"
  }
 },
 "nbformat": 4,
 "nbformat_minor": 4
}
