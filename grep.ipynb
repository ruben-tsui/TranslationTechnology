{
 "cells": [
  {
   "cell_type": "markdown",
   "metadata": {},
   "source": [
    "### Check grep version"
   ]
  },
  {
   "cell_type": "code",
   "execution_count": 1,
   "metadata": {},
   "outputs": [
    {
     "name": "stdout",
     "output_type": "stream",
     "text": [
      "grep (GNU grep) 3.1\r\n",
      "Copyright (C) 2017 Free Software Foundation, Inc.\r\n",
      "License GPLv3+: GNU GPL version 3 or later <http://gnu.org/licenses/gpl.html>.\r\n",
      "This is free software: you are free to change and redistribute it.\r\n",
      "There is NO WARRANTY, to the extent permitted by law.\r\n",
      "\r\n",
      "Written by Mike Haertel and others, see <http://git.sv.gnu.org/cgit/grep.git/tree/AUTHORS>.\r\n"
     ]
    }
   ],
   "source": [
    "!grep --version"
   ]
  },
  {
   "cell_type": "markdown",
   "metadata": {},
   "source": [
    "### Check contents of current working directory"
   ]
  },
  {
   "cell_type": "code",
   "execution_count": 2,
   "metadata": {},
   "outputs": [
    {
     "name": "stdout",
     "output_type": "stream",
     "text": [
      "total 72\r\n",
      "-rw-r--r-- 1 jovyan jovyan 56328 Mar 12 06:00 networkX_d3.ipynb\r\n",
      "-rw-r--r-- 1 jovyan jovyan  5237 Mar 12 06:00 Quantlib_test01.ipynb\r\n",
      "-rw-r--r-- 1 jovyan jovyan    67 Mar 12 06:00 README.md\r\n",
      "-rw-r--r-- 1 jovyan jovyan  1990 Mar 12 06:00 Untitled.ipynb\r\n"
     ]
    }
   ],
   "source": [
    "!ls -l"
   ]
  },
  {
   "cell_type": "markdown",
   "metadata": {},
   "source": [
    "### Download NYT English-Chinese bilingual corpus"
   ]
  },
  {
   "cell_type": "code",
   "execution_count": 13,
   "metadata": {},
   "outputs": [
    {
     "name": "stdout",
     "output_type": "stream",
     "text": [
      "--2020-03-12 10:22:41--  http://nlp.csie.org/~rubentsui/files/TranslationTech1082/Regex/nytbilingnews.zip\n",
      "Resolving nlp.csie.org (nlp.csie.org)... 140.112.185.31\n",
      "Connecting to nlp.csie.org (nlp.csie.org)|140.112.185.31|:80... connected.\n",
      "HTTP request sent, awaiting response... 200 OK\n",
      "Length: 111739765 (107M) [application/zip]\n",
      "Saving to: ‘nytbilingnews.zip’\n",
      "\n",
      "nytbilingnews.zip   100%[===================>] 106.56M  14.0MB/s    in 9.4s    \n",
      "\n",
      "2020-03-12 10:22:51 (11.3 MB/s) - ‘nytbilingnews.zip’ saved [111739765/111739765]\n",
      "\n"
     ]
    }
   ],
   "source": [
    "!wget -c http://nlp.csie.org/~rubentsui/files/TranslationTech1082/Regex/nytbilingnews.zip"
   ]
  },
  {
   "cell_type": "markdown",
   "metadata": {},
   "source": [
    "### Unzip the file and check the line count"
   ]
  },
  {
   "cell_type": "code",
   "execution_count": 14,
   "metadata": {},
   "outputs": [
    {
     "name": "stdout",
     "output_type": "stream",
     "text": [
      "Archive:  nytbilingnews.zip\n",
      "  inflating: everything3.txt         \n"
     ]
    }
   ],
   "source": [
    "!unzip nytbilingnews.zip"
   ]
  },
  {
   "cell_type": "code",
   "execution_count": 23,
   "metadata": {},
   "outputs": [
    {
     "name": "stdout",
     "output_type": "stream",
     "text": [
      "1004050 everything3.txt\r\n"
     ]
    }
   ],
   "source": [
    "!wc -l everything3.txt"
   ]
  },
  {
   "cell_type": "markdown",
   "metadata": {},
   "source": [
    "### Do a grep with context (show 1 line Before) "
   ]
  },
  {
   "cell_type": "code",
   "execution_count": 18,
   "metadata": {},
   "outputs": [
    {
     "name": "stdout",
     "output_type": "stream",
     "text": [
      "\u001b[32m\u001b[K139248\u001b[m\u001b[K\u001b[36m\u001b[K-\u001b[m\u001b[K“When the No. 2 official becomes the No. 1, there isn’t going to be much change,” said Joshua Wong, one of the leaders of those protests. “ ‘One country, two systems’ is going down the drain, and our high degree of autonomy will exist in name only,” Mr. Wong said.\n",
      "\u001b[32m\u001b[K139249\u001b[m\u001b[K\u001b[36m\u001b[K:\u001b[m\u001b[K「只是政府No. 2變成No. 1，不會有太大的改變，」抗議活動的領袖之一黃之鋒說。「一國兩制只會走下坡，而高度自治也只是\u001b[01;31m\u001b[K名存實亡\u001b[m\u001b[K。」\n",
      "\u001b[36m\u001b[K--\u001b[m\u001b[K\n",
      "\u001b[32m\u001b[K157323\u001b[m\u001b[K\u001b[36m\u001b[K-\u001b[m\u001b[KFriends said Mr. Mandela’s choice of his cause over his family often filled him with remorse — so much so that long after Winnie Mandela was widely known to have conducted a reign of terror, long after she was implicated in the kidnapping and murder of young township activists, long after the marriage was effectively dead, Mr. Mandela refused to utter a word of criticism.\n",
      "\u001b[32m\u001b[K157324\u001b[m\u001b[K\u001b[36m\u001b[K:\u001b[m\u001b[K\\r朋友們說，把事業置於家庭之上的選擇，常常令曼德拉充滿自責，正因為如此，在人們早就廣泛知道溫妮·曼德拉進行恐怖統治，並涉嫌參與綁架和殺害小鎮年輕活動人士後，而且在他們的婚姻早就\u001b[01;31m\u001b[K名存實亡\u001b[m\u001b[K後，曼德拉仍然拒絕對她作任何批評。\n",
      "\u001b[36m\u001b[K--\u001b[m\u001b[K\n",
      "\u001b[32m\u001b[K165013\u001b[m\u001b[K\u001b[36m\u001b[K-\u001b[m\u001b[KWho could fail to be moved? These are brave people. They have fled anguish in search not of a better life, but of life itself. In general, you do not choose to become a refugee because you have a choice, but because you have no choice. Like Yusra Mardini, the 18-year-old Syrian refugee from a Damascus suburb, who left a country that now exists only in name, and reached Germany only after the small boat bringing her from Turkey to Greece started taking on water in heavy seas. She and her sister Sarah dived into the water and for more than three hours pushed until it reached the island of Lesbos.\n",
      "\u001b[32m\u001b[K165014\u001b[m\u001b[K\u001b[36m\u001b[K:\u001b[m\u001b[K誰不會被感動？這些是勇敢的人。他們逃離痛苦之地，不是為了追求更好的生活，而是為了生活下去。一般而言，你不是因為有得選而選擇成為一名難民，而是因為別無選擇。就像來自大馬士革郊區的敘利亞難民、18歲的尤絲拉·馬爾迪尼(Yusra Mardini)，她逃離的國家如今已經\u001b[01;31m\u001b[K名存實亡\u001b[m\u001b[K，在抵達德國之前，她乘坐的從土耳其前往希臘的小船在波濤洶湧的大海上灌入了海水。她和姐姐薩拉跳入大海推了三個多小時，才令它抵達來茲波斯島。\n",
      "\u001b[36m\u001b[K--\u001b[m\u001b[K\n",
      "\u001b[32m\u001b[K176219\u001b[m\u001b[K\u001b[36m\u001b[K-\u001b[m\u001b[KRead Part 5 here.\n",
      "\u001b[32m\u001b[K176220\u001b[m\u001b[K\u001b[36m\u001b[K:\u001b[m\u001b[K（五）\u001b[01;31m\u001b[K名存實亡\u001b[m\u001b[K？\n",
      "\u001b[36m\u001b[K--\u001b[m\u001b[K\n",
      "\u001b[32m\u001b[K176266\u001b[m\u001b[K\u001b[36m\u001b[K-\u001b[m\u001b[K[HEADLINE] The Last Dalai Lama?\n",
      "\u001b[32m\u001b[K176267\u001b[m\u001b[K\u001b[36m\u001b[K:\u001b[m\u001b[K[標題] 最後的達賴喇嘛（五）：\u001b[01;31m\u001b[K名存實亡\u001b[m\u001b[K？\n",
      "\u001b[36m\u001b[K--\u001b[m\u001b[K\n",
      "\u001b[32m\u001b[K176296\u001b[m\u001b[K\u001b[36m\u001b[K-\u001b[m\u001b[KBut neither cynicism nor pragmatism entirely explains his stance. It may be that he is trying to actualize the insights he has gathered as a global nomad in his post-Tibet existence — that he has transmuted his own homelessness into a vision of freedom that accords with the Buddhist emphasis on change and impermanence. Over the previous months he had expressed various versions of a drastic prospect: The institution of the Dalai Lama had outlived its purpose, he said. ‘‘If it is not needed, then do away with it.’’\n",
      "\u001b[32m\u001b[K176297\u001b[m\u001b[K\u001b[36m\u001b[K:\u001b[m\u001b[K然而無論是犬儒主義還是實用主義都無法充分解釋他的立場。達賴喇嘛在自己的後西藏生活中成為一名環球流浪者，也許他在試圖將這期間的領悟具現出來——他將自己的漂泊轉變為一種自由的構想，與佛教強調的變幻無常相契合。過去幾個月里，他用多種方式描繪了一種激進的設想：達賴喇嘛制度已經\u001b[01;31m\u001b[K名存實亡\u001b[m\u001b[K，他說。「既然不需要了，那就廢除它。」\n",
      "\u001b[36m\u001b[K--\u001b[m\u001b[K\n",
      "\u001b[32m\u001b[K176419\u001b[m\u001b[K\u001b[36m\u001b[K-\u001b[m\u001b[KIncreasingly, the Dalai Lama addresses himself to a nondenominational audience and seems perversely determined to undermine the authority of his own tradition. He has intimated that the next Dalai Lama could be female. He has asserted that certain Buddhist scriptures disproved by science should be abandoned. He has suggested — frequently, during the months that I saw him — that the institution of the Dalai Lama has outlived its purpose. Having embarked in the age of the selfie on a project of self-abnegation, he is now flirting with ever-more-radical ideas. One morning at his Dharamsala residence in May this year, he told me that he may one day travel to China, but not as the Dalai Lama.\n",
      "\u001b[32m\u001b[K176420\u001b[m\u001b[K\u001b[36m\u001b[K:\u001b[m\u001b[K達賴喇嘛開始越來越多地針對非宗派人群講話，似乎執意要削弱自身道統的權威性。他示意下一任達賴喇嘛可以是女性。他主張摒棄被科學證明不成立的一些佛教經文。他表示達賴喇嘛制度已經\u001b[01;31m\u001b[K名存實亡\u001b[m\u001b[K，在我與他見面的那幾個月里，他就經常這麼說。在這個自拍的年代，他開始了一場捨棄自我的行動，不迴避越來越激進的想法。今年5月，他在達蘭薩拉的宅邸對我說，也許有一天，他會去中國，但不是以達賴喇嘛的身份。\n",
      "\u001b[36m\u001b[K--\u001b[m\u001b[K\n",
      "\u001b[32m\u001b[K176875\u001b[m\u001b[K\u001b[36m\u001b[K-\u001b[m\u001b[K（四）獨立還是自治\n",
      "\u001b[32m\u001b[K176876\u001b[m\u001b[K\u001b[36m\u001b[K:\u001b[m\u001b[K（五）\u001b[01;31m\u001b[K名存實亡\u001b[m\u001b[K？\n",
      "\u001b[36m\u001b[K--\u001b[m\u001b[K\n",
      "\u001b[32m\u001b[K256842\u001b[m\u001b[K\u001b[36m\u001b[K-\u001b[m\u001b[KStephen Roach proposes to remake the two largest economies on the globe, ours and China’s. For decades, he writes, the United States and China relied too much on a “marriage of convenience” that guaranteed China a huge market for its exports. In exchange, China gave American consumers a cornucopia of inexpensive products, while creating a willing buyer of the United States government’s swollen debt. But that marriage has played out, Mr. Roach says; it has warped the two economies, leaving them ill-equipped for further growth.\n",
      "\u001b[32m\u001b[K256843\u001b[m\u001b[K\u001b[36m\u001b[K:\u001b[m\u001b[K斯蒂芬·羅奇(Stephen Roach)建議，讓美國和中國這兩個全球最大經濟體從頭來過。他說幾十年來美中兩國過分依賴一種「權宜婚姻」，這確保中國的出口商品能找到一個巨大的市場，反過來說中國又向美國消費者提供了琳琅滿目的廉價商品，同時還心甘情願地成了美國政府巨額債務的買家。但是羅奇說這段婚姻已經\u001b[01;31m\u001b[K名存實亡\u001b[m\u001b[K，它把兩個經濟體包裹在一起，使它們喪失了進一步增長的能力。\n",
      "\u001b[36m\u001b[K--\u001b[m\u001b[K\n",
      "\u001b[32m\u001b[K299409\u001b[m\u001b[K\u001b[36m\u001b[K-\u001b[m\u001b[KWith the collapse of Communism in all but name, nationalism has become China's new ideology, and antipathy to Japan, past and present, has been seized upon as a way to shore up patriotic fervor. A common enemy is presumed to promote unity, and provides a useful political distraction at a time when China is burdened with domestic discontent and economic unease.\n",
      "\u001b[32m\u001b[K299410\u001b[m\u001b[K\u001b[36m\u001b[K:\u001b[m\u001b[K因為共產主義\u001b[01;31m\u001b[K名存實亡\u001b[m\u001b[K，所以民族主義成為中國新的意識形態，中國人過去和現在對日本的憎惡被用來鼓動愛國熱情。共同的敵人被認為能促進團結，是分散政治注意力的有效手段，尤其是此時中國國內存在不滿情緒和經濟焦慮。\n",
      "\u001b[36m\u001b[K--\u001b[m\u001b[K\n",
      "\u001b[32m\u001b[K683117\u001b[m\u001b[K\u001b[36m\u001b[K-\u001b[m\u001b[KThe Israeli — Palestinian conflict has become a ritualistic obscenity. It offends the conscience of humankind. The Oslo accords are dead. The “peace process” initiated through them is a farce. It is time to rethink everything.\n",
      "\u001b[32m\u001b[K683118\u001b[m\u001b[K\u001b[36m\u001b[K:\u001b[m\u001b[K以色列——巴勒斯坦衝突已經成為一種老套的下流勾當。它冒犯人類的良知。奧斯陸協議已\u001b[01;31m\u001b[K名存實亡\u001b[m\u001b[K。協議開啟的「和平進程」已成為一場鬧劇。是重新思考一切的時候了。\n",
      "\u001b[36m\u001b[K--\u001b[m\u001b[K\n",
      "\u001b[32m\u001b[K722908\u001b[m\u001b[K\u001b[36m\u001b[K-\u001b[m\u001b[KRussian weather satellites are practically nonexistent. The nation buys 80 percent of its earth observation data from overseas providers, and a similar fraction of its electronic components for its satellites. And even the space station’s reputation may be overblown: last year a returning cosmonaut criticized the Russian module's marginal livability and obsolete science capability compared to the modern U.S., European and Japanese segments.\n",
      "\u001b[32m\u001b[K722909\u001b[m\u001b[K\u001b[36m\u001b[K:\u001b[m\u001b[K俄羅斯氣象衛星已經\u001b[01;31m\u001b[K名存實亡\u001b[m\u001b[K。俄羅斯從海外供應商那裡購買80%的地球觀測數據，這一數字與其衛星電子元件的進口比例相似。甚至其空間站的美譽都可能有所誇大：去年，一位返航的宇航員指責稱，與美國、歐洲和日本的現代化空間艙相比，俄羅斯那部分的宜居性極低，其科研能力也明顯滯後。\n",
      "\u001b[36m\u001b[K--\u001b[m\u001b[K\n",
      "\u001b[32m\u001b[K746773\u001b[m\u001b[K\u001b[36m\u001b[K-\u001b[m\u001b[KHis foreign minister, Wang Yi, was more explicit. Foreign governments should make China’s campaign against Uighur separatists a part of the international struggle against terrorism, Mr. Wang said on Sunday. Chinese officials often assert that Uighur violence in Xinjiang is the work of a shadowy separatist movement, the East Turkestan Islamic Movement. But many foreign experts say that group is defunct, barely exists or has no effective fighting force.\n",
      "\u001b[32m\u001b[K746774\u001b[m\u001b[K\u001b[36m\u001b[K:\u001b[m\u001b[K中國外交部長王毅的表態更加明確，他在上周日說，外國政府應該把中國打擊維吾爾分裂主義者作為國際反恐鬥爭的一部分。中國官員經常聲稱新疆維吾爾族暴亂是一個名為「東突伊斯蘭運動」的隱秘分裂主義組織所為。但很多外國專家都表示，該組織已經\u001b[01;31m\u001b[K名存實亡\u001b[m\u001b[K，幾乎不具備有效的武裝力量。\n"
     ]
    }
   ],
   "source": [
    "!egrep -in -B1 '名存實亡' everything3.txt --color=always"
   ]
  },
  {
   "cell_type": "markdown",
   "metadata": {},
   "source": [
    "### Do a grep with context (show 1 line After) "
   ]
  },
  {
   "cell_type": "code",
   "execution_count": 25,
   "metadata": {},
   "outputs": [
    {
     "name": "stdout",
     "output_type": "stream",
     "text": [
      "\u001b[32m\u001b[K339908\u001b[m\u001b[K\u001b[36m\u001b[K:\u001b[m\u001b[KSecretary of State Rex W. Tillerson, going against tradition, did not introduce his department’s annual human rights report in March, though he was scheduled to appear with Ivanka Trump at the department on Tuesday to introduce a similar report on human trafficking. For the first time, the department plans to reduce China’s rating to the lowest tier of countries, signaling that it has exerted \u001b[01;31m\u001b[Kminimal effort\u001b[m\u001b[K to combat trafficking, The Associated Press reported.\n",
      "\u001b[32m\u001b[K339909\u001b[m\u001b[K\u001b[36m\u001b[K-\u001b[m\u001b[K3月，國務卿雷克斯·W·蒂勒森(Rex W. Tillerson)打破傳統，沒有親自發表國務院的年度人權報告，雖然他被安排在週二和伊萬卡·川普(Ivanka Trump)一起，在國務院發表一份與之類似的人口販賣報告。美聯社(The Associated Press)報導，國務院首次計劃把中國的評級下調到所有國家中的最低級別，表明它在打擊販賣人口方面幾乎沒有什麼作為。\n",
      "\u001b[36m\u001b[K--\u001b[m\u001b[K\n",
      "\u001b[32m\u001b[K629946\u001b[m\u001b[K\u001b[36m\u001b[K:\u001b[m\u001b[KWe cling to the desire for simple panaceas that will bestow good health with \u001b[01;31m\u001b[Kminimal effort\u001b[m\u001b[K. But biology is rarely that charitable. So we need to learn how tweaking our diets, lifestyles and environments can nudge and shape the ecosystems in our bodies. And we need ways of regularly monitoring a person’s microbiome to understand how its members flicker over time, and whether certain communities are more steadfast than others.\n",
      "\u001b[32m\u001b[K629947\u001b[m\u001b[K\u001b[36m\u001b[K-\u001b[m\u001b[K我們一直不肯放棄心中的一種執念，想要有一種靈丹妙藥，不費多大力氣，就能簡簡單單地得到健康。然而生物學卻很少會這樣慷慨，所以我們需要學着怎樣通過調節飲食、生活方式和環境，來細微地影響體內的生態系統。我們還需要想出一個辦法，來經常性地監測人體內的微生物群落，從而理解這些微生物在長時間裡如何變化，一些菌群是不是比另一些更為固定。\n",
      "\u001b[36m\u001b[K--\u001b[m\u001b[K\n",
      "\u001b[32m\u001b[K883342\u001b[m\u001b[K\u001b[36m\u001b[K:\u001b[m\u001b[K• Recipe of the day: Want big flavor with \u001b[01;31m\u001b[Kminimal effort\u001b[m\u001b[K? Go with curried chicken breasts.\n",
      "\u001b[32m\u001b[K883343\u001b[m\u001b[K\u001b[36m\u001b[K-\u001b[m\u001b[K• 今日菜譜：想不費吹灰之力做出美味佳肴嗎？試試咖哩雞胸肉。\n"
     ]
    }
   ],
   "source": [
    "!egrep -in -A1 'minim(al|um) efforts?' everything3.txt --color=always"
   ]
  },
  {
   "cell_type": "code",
   "execution_count": null,
   "metadata": {},
   "outputs": [],
   "source": []
  }
 ],
 "metadata": {
  "kernelspec": {
   "display_name": "Python 3",
   "language": "python",
   "name": "python3"
  },
  "language_info": {
   "codemirror_mode": {
    "name": "ipython",
    "version": 3
   },
   "file_extension": ".py",
   "mimetype": "text/x-python",
   "name": "python",
   "nbconvert_exporter": "python",
   "pygments_lexer": "ipython3",
   "version": "3.7.6"
  }
 },
 "nbformat": 4,
 "nbformat_minor": 4
}
