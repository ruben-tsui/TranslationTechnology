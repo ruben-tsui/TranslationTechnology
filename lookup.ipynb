{
 "cells": [
  {
   "cell_type": "markdown",
   "metadata": {},
   "source": [
    "## Using bilingual embeddings model\n",
    "\n",
    "### Retrieve bilingual embeddings model from remote server"
   ]
  },
  {
   "cell_type": "raw",
   "metadata": {},
   "source": [
    "%%time\n",
    "%%!\n",
    "wget -c -q http://nlp.csie.org/~rubentsui/files/TranslationTech1082/un16m.bin.gz\n",
    "gunzip un16m.bin.gz"
   ]
  },
  {
   "cell_type": "markdown",
   "metadata": {},
   "source": [
    "### Load Multivec module, model and check dimension"
   ]
  },
  {
   "cell_type": "code",
   "execution_count": 1,
   "metadata": {},
   "outputs": [
    {
     "name": "stdout",
     "output_type": "stream",
     "text": [
      "Model dimension = 200\n",
      "CPU times: user 11.9 s, sys: 3.55 s, total: 15.5 s\n",
      "Wall time: 15.1 s\n"
     ]
    }
   ],
   "source": [
    "%%time\n",
    "from lookup import analogy, analogy2, collocate, collocate2, en2zh, zh2en, enSynonyms, zhSynonyms, model, en_model, zh_model"
   ]
  },
  {
   "cell_type": "code",
   "execution_count": 2,
   "metadata": {},
   "outputs": [
    {
     "data": {
      "text/plain": [
       "'governments | institutions | industrialized | developing | national | regions | neighbouring | subnational | region | regional | capacities | recipient | less-developed | ownership | middle-income | neighboring | Industrialized | strategies | sovereign | economies'"
      ]
     },
     "execution_count": 2,
     "metadata": {},
     "output_type": "execute_result"
    }
   ],
   "source": [
    "w = '國家' # '資產' # '獲益' #'餵奶' # \n",
    "enlist = model.src_closest(w.encode(), n=20)\n",
    "' | '.join([e.decode() for (e, d) in enlist])"
   ]
  },
  {
   "cell_type": "code",
   "execution_count": 3,
   "metadata": {},
   "outputs": [
    {
     "name": "stdout",
     "output_type": "stream",
     "text": [
      "['敏鋭', '氣質', '好奇心', '社會意識', '認知', '特質', '敏感性', '道德觀念', '自我認識', '理解力', '敏感度', '激發起', '思想道德', '感性', '覺悟', '政治覺悟', '解構', '感知', '積極向上', '表達能力']\n"
     ]
    }
   ],
   "source": [
    "w = 'sensibility'\n",
    "zhlist = model.trg_closest(w.encode(), n=20)\n",
    "print([z.decode() for (z, d) in zhlist])"
   ]
  },
  {
   "cell_type": "code",
   "execution_count": 4,
   "metadata": {},
   "outputs": [
    {
     "name": "stdout",
     "output_type": "stream",
     "text": [
      "Scotland : Glasgow :: 蘇格蘭 : 格拉斯哥\n",
      "['格拉斯哥', '威爾士', '加的夫', '曼徹斯特', '英國文化委員會', '劍橋', '美國普林斯頓大學', '威爾斯', '哈佛大學', '劍橋大學', '薩塞克斯', '布里斯托爾', '行政院', '廷德爾']\n"
     ]
    }
   ],
   "source": [
    "w1 = 'Scotland'\n",
    "w2 = 'Glasgow'\n",
    "w3 = '蘇格蘭'; \n",
    "analogy(w1, w2, w3)"
   ]
  },
  {
   "cell_type": "code",
   "execution_count": 5,
   "metadata": {},
   "outputs": [
    {
     "data": {
      "text/plain": [
       "'國王 | 賈南 | 皇帝 | 之王 | 國父 | 一世 | 統治者 | 公爵 | 諾羅敦 | 陛下 | 托亞 | 登基 | 王室 | 君主 | 女皇 | 大公 | 王朝 | 敬愛 | 女王 | 塔努馬'"
      ]
     },
     "execution_count": 5,
     "metadata": {},
     "output_type": "execute_result"
    }
   ],
   "source": [
    "w = 'king'\n",
    "zhlist = model.trg_closest(w.encode(), n=20)\n",
    "' | '.join([z.decode() for (z, d) in zhlist])"
   ]
  },
  {
   "cell_type": "code",
   "execution_count": 6,
   "metadata": {},
   "outputs": [
    {
     "name": "stdout",
     "output_type": "stream",
     "text": [
      "fine | life | imprisonment | living | live | lives | fines | people | citizens | lived | fined | kip | 20.000.000 | citizen | perpétua | RM10 | inhabitants | 5.000.000 | riel | families | person | Rp | rupees | dong | man\n"
     ]
    }
   ],
   "source": [
    "# adj-modifier [JJ] (w2) + noun [NO] (w1)\n",
    "w1 = '疾病'\n",
    "w2 = '先天'\n",
    "w3 = 'disease'\n",
    "# adv-modifier (w2) + verb (w1)\n",
    "w1 = '氣候'\n",
    "w2 = '正常'\n",
    "w3 = 'phenomenon'\n",
    "\n",
    "w1 = '男'\n",
    "w2 = '國王'\n",
    "w3 = 'woman'\n",
    "\n",
    "# base=N, collocate=V\n",
    "w1 = '根基'# '根本'\n",
    "w2 = '鞏固' #'動搖'\n",
    "w3 = 'foundations'\n",
    "\n",
    "# base=N, collocate=V\n",
    "w1 = '秘密'# '根本'\n",
    "w2 = '發現' #'動搖'\n",
    "w3 = 'secrets'\n",
    "\n",
    "# base=N, collocate=V\n",
    "w1 = '人選'# '根本'\n",
    "w2 = '推薦' #'動搖'\n",
    "w3 = 'candidate'\n",
    "\n",
    "# verb [V] (w2) + direct object [DO] (w1)\n",
    "w1 = '犯罪'\n",
    "w2 = '打擊'\n",
    "w3 = 'crime'; \n",
    "\n",
    "# verb [V] (w2) + direct object [DO] (w1)\n",
    "w1 = '耕耘'\n",
    "w2 = '默默'\n",
    "w3 = 'work'; \n",
    "\n",
    "# verb [V] (w2) + direct object [DO] (w1)\n",
    "w1 = '名譽'\n",
    "w2 = '損害'\n",
    "w3 = 'reputation'; \n",
    "\n",
    "w1 = '隱私'\n",
    "w2 = '侵犯'\n",
    "w3 = 'privacy'; \n",
    "\n",
    "w1 = '精緻'\n",
    "w2 = '生活'\n",
    "w3 = 'fine'; \n",
    "\n",
    "w1v = zh_model.word_vec(w1.encode())\n",
    "w2v = zh_model.word_vec(w2.encode())\n",
    "w3v = en_model.word_vec(w3.encode())\n",
    "w4v = w3v + (w2v - w1v)\n",
    "closest_words = [w.decode() for (w, d) in en_model.closest_to_vec(w4v, n=25)]\n",
    "print(' | '.join(closest_words))"
   ]
  },
  {
   "cell_type": "code",
   "execution_count": 7,
   "metadata": {},
   "outputs": [
    {
     "name": "stdout",
     "output_type": "stream",
     "text": [
      "犯罪 : 打擊 :: crime : combating\n",
      "['combating', 'fight', 'combat', 'terrorism', 'trafficking', 'corruption', 'COMBATING', 'combatting', 'Combatting', 'prevention', 'Combating', 'scourge', 'suppression', 'anti-trafficking']\n"
     ]
    }
   ],
   "source": [
    "# adj-modifier [JJ] (w2) + noun [NO] (w1)\n",
    "w1 = '貧窮'\n",
    "w2 = ''\n",
    "w1 = '疾病'\n",
    "w2 = '治療'\n",
    "w3 = 'disease'\n",
    "w3 = 'poverty'\n",
    "\n",
    "\n",
    "# verb [V] (w2) + direct object [DO] (w1)\n",
    "w1 = '因素'\n",
    "w2 = '確定'\n",
    "w3 = 'factors'\n",
    "\n",
    "w1 = '犯罪'\n",
    "w2 = '打擊'\n",
    "w3 = 'crime'\n",
    "collocate(w1, w2, w3)"
   ]
  },
  {
   "cell_type": "code",
   "execution_count": 8,
   "metadata": {},
   "outputs": [
    {
     "name": "stdout",
     "output_type": "stream",
     "text": [
      "victim : abuse :: 受害者 : 虐待\n",
      "['虐待', '性虐待', '剝削', '性暴力', '濫用', '性侵犯', '暴力', '欺凌', '凌辱', '凌虐', '暴力行為', '虐待老人', '性', '家庭暴力']\n"
     ]
    }
   ],
   "source": [
    "w1 = 'victim'\n",
    "w2 = 'prominent'\n",
    "w3 = '犧牲者'\n",
    "\n",
    "w1 = 'victim'\n",
    "w2 = 'abuse'\n",
    "w3 = '受害者'\n",
    "\n",
    "collocate2(w1, w2, w3)"
   ]
  },
  {
   "cell_type": "code",
   "execution_count": 9,
   "metadata": {},
   "outputs": [
    {
     "name": "stdout",
     "output_type": "stream",
     "text": [
      "策略 : 嚴厲 :: tactic : harsher\n",
      "['harsher', 'harshest', 'sanction', 'punishments', 'severest', 'draconian', 'merciless', 'crackdowns', 'harshly', 'punishment', 'brutal', 'ruthless', 'shamelessly', 'callously']\n"
     ]
    }
   ],
   "source": [
    "w1 = '策略' \n",
    "w2 = '嚴厲'  \n",
    "w3 = 'tactic'\n",
    "analogy2(w1, w2, w3)"
   ]
  },
  {
   "cell_type": "code",
   "execution_count": 10,
   "metadata": {},
   "outputs": [
    {
     "name": "stdout",
     "output_type": "stream",
     "text": [
      "decision : light :: 決定 : 有鑒於\n",
      "['有鑒於', '鑒於', '銘記', '考慮', '牢記', '加以分析', '無先例', '審慎考慮', '宜于', '審視', '到現', '時局', '須予', '參照', '過高估計']\n"
     ]
    }
   ],
   "source": [
    "w3 = 'execution'\n",
    "w1 = 'rank' \n",
    "w2 = 'prioritize'  \n",
    "\n",
    "w1 = 'decision' \n",
    "w2 = 'light'  \n",
    "w3 = '決定'\n",
    "analogy(w1, w2, w3)"
   ]
  },
  {
   "cell_type": "markdown",
   "metadata": {},
   "source": [
    "### 英語近義詞"
   ]
  },
  {
   "cell_type": "code",
   "execution_count": 11,
   "metadata": {},
   "outputs": [
    {
     "data": {
      "text/plain": [
       "'incipient | embryo | infancy | cloned | immature | formative | skeletal | embryos | quails | metabolism | aberration | hepatic | vivo | hypodynamy | germination | vitro | maturation | chromosomal | primitive | hormones | organism | microscopic | inhibitor | germ | hormone'"
      ]
     },
     "execution_count": 11,
     "metadata": {},
     "output_type": "execute_result"
    }
   ],
   "source": [
    "words = '''\n",
    "embryonic \n",
    "'''\n",
    "words = words.strip().split()\n",
    "' | '.join(enSynonyms(words[-1], n=25))"
   ]
  },
  {
   "cell_type": "code",
   "execution_count": 12,
   "metadata": {},
   "outputs": [
    {
     "data": {
      "text/plain": [
       "'投機者 | 投機性 | 多國公司 | 掠奪性 | 爭先恐後 | 寡頭 | 擠走 | 投機 | 拉動 | 自然而然 | 拋售 | 有權有勢 | 接二連三 | 爭相 | 從眾 | 套利 | 壓低 | 出人意料 | 非正統 | 不擇手段 | 擠出 | 市場化 | 壟斷市場 | 投資商 | 貪得無厭'"
      ]
     },
     "execution_count": 12,
     "metadata": {},
     "output_type": "execute_result"
    }
   ],
   "source": [
    "words = '''\n",
    "一窩蜂\n",
    "'''\n",
    "words = words.strip().split()\n",
    "' | '.join(zhSynonyms(words[-1], n=25))"
   ]
  },
  {
   "cell_type": "code",
   "execution_count": 13,
   "metadata": {},
   "outputs": [
    {
     "name": "stdout",
     "output_type": "stream",
     "text": [
      "grep: nytimes.txt: No such file or directory\n"
     ]
    }
   ],
   "source": [
    "words = '''\n",
    "訴訟 灌輸 萌芽 巧取豪奪 名存實亡 盛氣凌人 雞皮疙瘩 不堪回首 \n",
    "'''\n",
    "words = words.strip().split()\n",
    "word   = words[-1]\n",
    "#print(' | '.join(zh2en(word, 35)))\n",
    "\n",
    "corpora = ['UNv1.0.en-zh.combined.txt', 'nytimes.txt', 'roclaws.zh-en.combined.txt', 'frog.zh-en.combined.txt']\n",
    "corpus = corpora[1]\n",
    "! grep -Pi -B1 -e \"$word\" $corpus --color=always"
   ]
  },
  {
   "cell_type": "code",
   "execution_count": 14,
   "metadata": {},
   "outputs": [
    {
     "name": "stdout",
     "output_type": "stream",
     "text": [
      "embryonic\n",
      "CPU times: user 645 ms, sys: 12 ms, total: 657 ms\n",
      "Wall time: 650 ms\n"
     ]
    },
    {
     "data": {
      "text/plain": [
       "'萌芽 | 幹細胞 | 初級階段 | 胚胎 | 發育階段 | 牙齦 | 大腦 | 類固醇 | 初步階段 | 孕育 | 授精 | 無性繁殖 | 動物模型 | 體外 | 性腺 | 雌激素 | 垂體 | 代謝 | 嬰兒期 | 細胞 | 乳汁 | 體細胞 | 染色體 | 失重 | 發育畸形 | 雛形 | 腎癌 | 囊腫 | 開發階段 | 現階段 | 細胞培養 | 配子 | 高級階段 | 激素 | 受精 | 先天 | 克隆人 | 生殖細胞 | 癌 | 晚期 | 人工呼吸 | 單細胞 | 分泌 | 為時尚早 | 支氣管 | 腫瘤 | 克隆 | 胚 | 已近尾聲 | 斑馬魚'"
      ]
     },
     "execution_count": 14,
     "metadata": {},
     "output_type": "execute_result"
    }
   ],
   "source": [
    "%%time\n",
    "words = '''\n",
    "embryonic \n",
    "'''\n",
    "words = words.strip().split()\n",
    "w = words[-1]; print(w)\n",
    "' | '.join(en2zh(w, n=50))"
   ]
  },
  {
   "cell_type": "code",
   "execution_count": 15,
   "metadata": {},
   "outputs": [
    {
     "data": {
      "text/plain": [
       "'初級階段 | 起步 | 沉淪 | 休眠狀態 | 消退 | 壽終正寢 | 消亡 | 牙齦 | 醞釀 | 孕育 | 發芽 | 後期 | 初具 | 苗頭 | 潛伏 | 開花 | 初創 | 慢慢 | 消散 | 深陷 | 湧現 | 無政府 | 初期 | 捲土重來 | 方興未艾'"
      ]
     },
     "execution_count": 15,
     "metadata": {},
     "output_type": "execute_result"
    }
   ],
   "source": [
    "words = '''\n",
    "夠用 足夠 萬劫 不復 問題 轉換 提供 深邃 萌芽 \n",
    "'''\n",
    "words = words.strip().split()\n",
    "' | '.join(zhSynonyms(words[-1], 25))"
   ]
  },
  {
   "cell_type": "code",
   "execution_count": null,
   "metadata": {},
   "outputs": [],
   "source": []
  }
 ],
 "metadata": {
  "kernelspec": {
   "display_name": "Python 3",
   "language": "python",
   "name": "python3"
  },
  "language_info": {
   "codemirror_mode": {
    "name": "ipython",
    "version": 3
   },
   "file_extension": ".py",
   "mimetype": "text/x-python",
   "name": "python",
   "nbconvert_exporter": "python",
   "pygments_lexer": "ipython3",
   "version": "3.7.6"
  }
 },
 "nbformat": 4,
 "nbformat_minor": 4
}
